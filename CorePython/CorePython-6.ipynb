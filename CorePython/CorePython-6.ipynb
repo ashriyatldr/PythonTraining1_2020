{
 "cells": [
  {
   "cell_type": "markdown",
   "metadata": {},
   "source": [
    "### Object Oriented Programming (OOP)"
   ]
  },
  {
   "cell_type": "code",
   "execution_count": 2,
   "metadata": {},
   "outputs": [],
   "source": [
    "# Class and Object\n",
    "    # Create Class\n",
    "    # Class Variable\n",
    "    # Instance Variable\n",
    "    # Constructor/Initializer\n",
    "    # Setter Method\n",
    "    # Getter Method\n",
    "    # Process Method\n",
    "    # Create Object \n",
    "# Encapsulation\n",
    "# Inheritance\n",
    "# Polymorphism"
   ]
  },
  {
   "cell_type": "markdown",
   "metadata": {},
   "source": [
    "#### Class\n",
    "- collection of varibale(s) and function(s)"
   ]
  },
  {
   "cell_type": "code",
   "execution_count": 4,
   "metadata": {},
   "outputs": [],
   "source": [
    "# Create a Class\n",
    "\"\"\"\n",
    "class class_name():\n",
    "    variables\n",
    "    functions\n",
    "\"\"\"\n",
    "\n",
    "class Person():\n",
    "    pass"
   ]
  },
  {
   "cell_type": "code",
   "execution_count": 6,
   "metadata": {},
   "outputs": [],
   "source": [
    "# Adding Class Varibale\n",
    "class Person():\n",
    "    country=None # Class Variable"
   ]
  },
  {
   "cell_type": "code",
   "execution_count": 30,
   "metadata": {},
   "outputs": [
    {
     "name": "stdout",
     "output_type": "stream",
     "text": [
      "<__main__.Person object at 0x00000003D735B910>\n",
      "16495524112\n",
      "<class '__main__.Person'>\n",
      "True\n"
     ]
    }
   ],
   "source": [
    "# Creating an Object of Class\n",
    "\"\"\"\n",
    "    object_name = class_name()    \n",
    "\"\"\"\n",
    "\n",
    "p1 = Person()\n",
    "print(p1)\n",
    "print(id(p1))\n",
    "print(type(p1))\n",
    "print(isinstance(p1, Person))\n",
    "\n",
    "del p1\n",
    "\n",
    "#print(dir(p1))\n",
    "#print(help(p1))"
   ]
  },
  {
   "cell_type": "code",
   "execution_count": 18,
   "metadata": {},
   "outputs": [],
   "source": [
    "class Person():\n",
    "    country=None # Class Variable"
   ]
  },
  {
   "cell_type": "code",
   "execution_count": 28,
   "metadata": {},
   "outputs": [],
   "source": [
    "# Set Value\n",
    "Person.country=\"Nepal\""
   ]
  },
  {
   "cell_type": "code",
   "execution_count": 29,
   "metadata": {},
   "outputs": [
    {
     "name": "stdout",
     "output_type": "stream",
     "text": [
      "Nepal\n"
     ]
    }
   ],
   "source": [
    "# Access Value\n",
    "country = Person.country\n",
    "print(country)"
   ]
  },
  {
   "cell_type": "code",
   "execution_count": 41,
   "metadata": {},
   "outputs": [],
   "source": [
    "p1 = Person()\n",
    "p2 = Person()\n",
    "\n",
    "p1.country = \"Nepal\"\n",
    "p2.country = \"India\""
   ]
  },
  {
   "cell_type": "code",
   "execution_count": 42,
   "metadata": {},
   "outputs": [
    {
     "name": "stdout",
     "output_type": "stream",
     "text": [
      "Nepal\n"
     ]
    }
   ],
   "source": [
    "print(p1.country)"
   ]
  },
  {
   "cell_type": "code",
   "execution_count": 43,
   "metadata": {},
   "outputs": [
    {
     "name": "stdout",
     "output_type": "stream",
     "text": [
      "India\n"
     ]
    }
   ],
   "source": [
    "print(p2.country)"
   ]
  },
  {
   "cell_type": "code",
   "execution_count": 46,
   "metadata": {},
   "outputs": [],
   "source": [
    "Person.country=\"Bhutan\"\n",
    "p1 = Person()"
   ]
  },
  {
   "cell_type": "code",
   "execution_count": 48,
   "metadata": {
    "collapsed": true,
    "jupyter": {
     "outputs_hidden": true,
     "source_hidden": true
    }
   },
   "outputs": [
    {
     "name": "stdout",
     "output_type": "stream",
     "text": [
      "Bhutan\n"
     ]
    }
   ],
   "source": [
    "Person.country\n",
    "print(p1.country)"
   ]
  },
  {
   "cell_type": "code",
   "execution_count": 49,
   "metadata": {},
   "outputs": [],
   "source": [
    "# Instance variable"
   ]
  },
  {
   "cell_type": "code",
   "execution_count": 54,
   "metadata": {},
   "outputs": [],
   "source": [
    "class Person():\n",
    "    country=None # Class Variable\n",
    "    def __init__(self):\n",
    "        full_name=None # Instance Varaile"
   ]
  },
  {
   "cell_type": "code",
   "execution_count": 66,
   "metadata": {},
   "outputs": [],
   "source": [
    "Person.country=\"Nepal\" # Update"
   ]
  },
  {
   "cell_type": "code",
   "execution_count": 67,
   "metadata": {},
   "outputs": [],
   "source": [
    "p1 = Person()\n",
    "p2 = Person()"
   ]
  },
  {
   "cell_type": "code",
   "execution_count": 68,
   "metadata": {},
   "outputs": [],
   "source": [
    "p1.full_name=\"Raj\"\n",
    "p2.full_name=\"Sushan\""
   ]
  },
  {
   "cell_type": "code",
   "execution_count": 59,
   "metadata": {},
   "outputs": [
    {
     "name": "stdout",
     "output_type": "stream",
     "text": [
      "Nepal\n",
      "Raj\n",
      "Sushan\n"
     ]
    }
   ],
   "source": [
    "print(Person.country)\n",
    "print(p1.full_name)\n",
    "print(p2.full_name)"
   ]
  },
  {
   "cell_type": "code",
   "execution_count": 62,
   "metadata": {},
   "outputs": [
    {
     "name": "stdout",
     "output_type": "stream",
     "text": [
      "16495608560\n"
     ]
    }
   ],
   "source": [
    "print(id(Person.country))"
   ]
  },
  {
   "cell_type": "code",
   "execution_count": 63,
   "metadata": {},
   "outputs": [
    {
     "name": "stdout",
     "output_type": "stream",
     "text": [
      "16495608560\n"
     ]
    }
   ],
   "source": [
    "print(id(Person.country))"
   ]
  },
  {
   "cell_type": "code",
   "execution_count": 65,
   "metadata": {},
   "outputs": [
    {
     "name": "stdout",
     "output_type": "stream",
     "text": [
      "16495657712\n",
      "16495657392\n"
     ]
    }
   ],
   "source": [
    "print(id(p1.full_name))\n",
    "print(id(p2.full_name))"
   ]
  },
  {
   "cell_type": "code",
   "execution_count": 1,
   "metadata": {},
   "outputs": [],
   "source": [
    "# Class"
   ]
  },
  {
   "cell_type": "code",
   "execution_count": 4,
   "metadata": {},
   "outputs": [],
   "source": [
    "class Person():\n",
    "    pass"
   ]
  },
  {
   "cell_type": "code",
   "execution_count": 8,
   "metadata": {},
   "outputs": [],
   "source": [
    "# Creating object\n",
    "person1 = Person()"
   ]
  },
  {
   "cell_type": "code",
   "execution_count": 9,
   "metadata": {},
   "outputs": [
    {
     "name": "stdout",
     "output_type": "stream",
     "text": [
      "<class '__main__.Person'>\n",
      "True\n"
     ]
    }
   ],
   "source": [
    "print(type(person1))\n",
    "print(isinstance(person1, Person))"
   ]
  },
  {
   "cell_type": "code",
   "execution_count": 10,
   "metadata": {},
   "outputs": [],
   "source": [
    "class Person():\n",
    "    address=\"\""
   ]
  },
  {
   "cell_type": "code",
   "execution_count": 13,
   "metadata": {},
   "outputs": [
    {
     "name": "stdout",
     "output_type": "stream",
     "text": [
      "Kathmandu\n"
     ]
    }
   ],
   "source": [
    "# Accessing class variable\n",
    "Person.address=\"Kathmandu\"\n",
    "print(Person.address)"
   ]
  },
  {
   "cell_type": "code",
   "execution_count": 15,
   "metadata": {},
   "outputs": [],
   "source": [
    "# Class with instance variables\n",
    "class Person():\n",
    "    def __init__(self):\n",
    "        self.person_name=\"\" # Instance Variable"
   ]
  },
  {
   "cell_type": "code",
   "execution_count": 16,
   "metadata": {},
   "outputs": [],
   "source": [
    "p1 = Person()\n",
    "p2 = Person()\n",
    "p3 = Person()\n"
   ]
  },
  {
   "cell_type": "code",
   "execution_count": 17,
   "metadata": {},
   "outputs": [
    {
     "name": "stdout",
     "output_type": "stream",
     "text": [
      "395330211360\n",
      "395330209008\n",
      "395330211312\n"
     ]
    }
   ],
   "source": [
    "print(id(p1))\n",
    "print(id(p2))\n",
    "print(id(p3))"
   ]
  },
  {
   "cell_type": "code",
   "execution_count": 18,
   "metadata": {},
   "outputs": [],
   "source": [
    "# Direct value store\n",
    "p1.person_name=\"Krishna\"\n",
    "p2.person_name=\"Raj\"\n",
    "p3.person_name=\"Bikash\""
   ]
  },
  {
   "cell_type": "code",
   "execution_count": 19,
   "metadata": {},
   "outputs": [
    {
     "name": "stdout",
     "output_type": "stream",
     "text": [
      "Krishna\n",
      "Raj\n",
      "Bikash\n"
     ]
    }
   ],
   "source": [
    "# Direct value access\n",
    "print(p1.person_name)\n",
    "print(p2.person_name)\n",
    "print(p3.person_name)"
   ]
  },
  {
   "cell_type": "code",
   "execution_count": 20,
   "metadata": {},
   "outputs": [],
   "source": [
    "class Person():\n",
    "    def __init__(self, person_name):\n",
    "        self.person_name=person_name # Instance Variable"
   ]
  },
  {
   "cell_type": "code",
   "execution_count": 22,
   "metadata": {},
   "outputs": [
    {
     "name": "stdout",
     "output_type": "stream",
     "text": [
      "Rupak Shrestha\n"
     ]
    }
   ],
   "source": [
    "p1 = Person(\"Rupak Shrestha\")\n",
    "print(p1.person_name)"
   ]
  },
  {
   "cell_type": "code",
   "execution_count": 33,
   "metadata": {},
   "outputs": [],
   "source": [
    "class Person():\n",
    "    def __init__(self, person_name):#Initializer\n",
    "        self.person_name=person_name # Instance Variable\n",
    "    def __str__(self): # to_string\n",
    "        return self.person_name"
   ]
  },
  {
   "cell_type": "code",
   "execution_count": 36,
   "metadata": {},
   "outputs": [
    {
     "name": "stdout",
     "output_type": "stream",
     "text": [
      "Elisha\n"
     ]
    }
   ],
   "source": [
    "p1 = Person(\"Elisha\")\n",
    "print(p1)\n"
   ]
  },
  {
   "cell_type": "code",
   "execution_count": 40,
   "metadata": {},
   "outputs": [],
   "source": [
    "class Person():\n",
    "    def __init__(self, person_name=\"NA\"):#Initializer\n",
    "        self.person_name=person_name # Instance Variable\n",
    "    def __str__(self): # to_string\n",
    "        return self.person_name"
   ]
  },
  {
   "cell_type": "code",
   "execution_count": 41,
   "metadata": {},
   "outputs": [],
   "source": [
    "p1 = Person(\"Elisha\") # Elisha Itani\n",
    "p2 = Person()"
   ]
  },
  {
   "cell_type": "code",
   "execution_count": 42,
   "metadata": {},
   "outputs": [
    {
     "name": "stdout",
     "output_type": "stream",
     "text": [
      "Elisha\n",
      "NA\n"
     ]
    }
   ],
   "source": [
    "print(p1)\n",
    "print(p2)"
   ]
  },
  {
   "cell_type": "code",
   "execution_count": 66,
   "metadata": {},
   "outputs": [],
   "source": [
    "# Setters\n",
    "class Person():\n",
    "    def __init__(self, person_name=\"NA\", person_address=\"NA\"):#Initializer\n",
    "        self.person_name=person_name # Instance Variable\n",
    "        self.person_address=person_address \n",
    "        \n",
    "    def get_person_name(self):\n",
    "        return self.person_name    \n",
    "    \n",
    "    def get_person_address(self):\n",
    "        return self.person_address    \n",
    "                \n",
    "    def set_person_name(self, person_name=\"\"):\n",
    "        self.person_name=person_name\n",
    "    \n",
    "    def set_person_address(self, person_address=\"\"):\n",
    "        self.person_address=person_address\n",
    "        \n",
    "    def __str__(self): # to_string\n",
    "        return self.person_name +\", \"+self.person_address"
   ]
  },
  {
   "cell_type": "code",
   "execution_count": 64,
   "metadata": {},
   "outputs": [
    {
     "name": "stdout",
     "output_type": "stream",
     "text": [
      "Elisha, KTM\n"
     ]
    }
   ],
   "source": [
    "p1 = Person(\"Elisha\",\"KTM\") # Elisha Itani\n",
    "print(p1)"
   ]
  },
  {
   "cell_type": "code",
   "execution_count": 65,
   "metadata": {},
   "outputs": [
    {
     "name": "stdout",
     "output_type": "stream",
     "text": [
      "Elisha Itani\n"
     ]
    }
   ],
   "source": [
    "p1.set_person_name(\"Elisha Itani\")# Value set\n",
    "print(p1.get_person_name()) # Value get"
   ]
  },
  {
   "cell_type": "code",
   "execution_count": 69,
   "metadata": {},
   "outputs": [],
   "source": [
    "# Calculator | Encapsulation\n",
    "class Calculator():\n",
    "    def __init__(self, num1=0, num2=0):\n",
    "        self.num1=num1\n",
    "        self.num2=num2\n",
    "        self.result=0        \n",
    "        \n",
    "    def get_num1(self):\n",
    "        return self.num1\n",
    "    \n",
    "    def get_num2(self):\n",
    "        return self.num2\n",
    "    \n",
    "    def get_result(self):\n",
    "        return self.result\n",
    "    \n",
    "    def set_num1(self, num1):\n",
    "        self.num1=num1\n",
    "    \n",
    "    def set_num2(self, num2):\n",
    "        self.num2=num2\n",
    "        \n",
    "    def calc_sum(self):\n",
    "        self.result=self.num1+self.num2        \n",
    "    \n",
    "    def calc_dif(self):\n",
    "        self.result=self.num1-self.num2\n",
    "    \n",
    "    def calc_prd(self):\n",
    "        self.result=self.num1*self.num2\n",
    "    \n",
    "    def calc_div(self):\n",
    "        self.result=self.num1//self.num2\n",
    "        \n",
    "    def __str__(self):\n",
    "        return str(self.num1)+\", \"+str(self.num2)+\", \"+str(self.result)        "
   ]
  },
  {
   "cell_type": "code",
   "execution_count": 82,
   "metadata": {},
   "outputs": [
    {
     "name": "stdout",
     "output_type": "stream",
     "text": [
      "10 4 14\n"
     ]
    }
   ],
   "source": [
    "c1 = Calculator(10, 3)\n",
    "#print(c1)\n",
    "c1.calc_sum()\n",
    "#print(c1)\n",
    "c1.set_num2(4)\n",
    "#print(c1)\n",
    "c1.calc_sum()\n",
    "#print(c1)\n",
    "num1 = c1.get_num1()\n",
    "num2 = c1.get_num2()\n",
    "result = c1.get_result()\n",
    "print(num1, num2, result)"
   ]
  },
  {
   "cell_type": "code",
   "execution_count": 87,
   "metadata": {},
   "outputs": [],
   "source": [
    "# Inheritance\n",
    "class C1():\n",
    "    def __init__(self, var1=\"NA\"):\n",
    "        self.var1=var1    "
   ]
  },
  {
   "cell_type": "code",
   "execution_count": 100,
   "metadata": {},
   "outputs": [],
   "source": [
    "class C2(C1):\n",
    "    pass"
   ]
  },
  {
   "cell_type": "code",
   "execution_count": 101,
   "metadata": {},
   "outputs": [],
   "source": [
    "# Polymorphism\n",
    "obj2 = C2() \n",
    "obj3 = C2(\"Krishna\") "
   ]
  },
  {
   "cell_type": "code",
   "execution_count": 102,
   "metadata": {},
   "outputs": [
    {
     "name": "stdout",
     "output_type": "stream",
     "text": [
      "NA\n",
      "Krishna\n"
     ]
    }
   ],
   "source": [
    "print(obj2.var1)\n",
    "print(obj3.var1)"
   ]
  },
  {
   "cell_type": "code",
   "execution_count": 3,
   "metadata": {},
   "outputs": [
    {
     "data": {
      "text/plain": [
       "'\\n# Task\\n- PyCharm\\n- VS Code\\n- Spyder\\n\\n# Creating a Python file (*.py)\\n    # Create a class with instance variable\\n# Creating a Python file (*.py)\\n    # Consume existing python file(resources)\\n\\n# Note:\\n    # package\\n    # from, import\\n'"
      ]
     },
     "execution_count": 3,
     "metadata": {},
     "output_type": "execute_result"
    }
   ],
   "source": [
    "\"\"\"\n",
    "# Task\n",
    "- PyCharm\n",
    "- VS Code\n",
    "- Spyder\n",
    "\n",
    "# Creating a Python file (*.py)\n",
    "    # Create a class with instance variable\n",
    "# Creating a Python file (*.py)\n",
    "    # Consume existing python file(resources)\n",
    "\n",
    "# Note:\n",
    "    # package\n",
    "    # from, import\n",
    "\"\"\""
   ]
  },
  {
   "cell_type": "code",
   "execution_count": null,
   "metadata": {},
   "outputs": [],
   "source": []
  }
 ],
 "metadata": {
  "kernelspec": {
   "display_name": "Python 3",
   "language": "python",
   "name": "python3"
  },
  "language_info": {
   "codemirror_mode": {
    "name": "ipython",
    "version": 3
   },
   "file_extension": ".py",
   "mimetype": "text/x-python",
   "name": "python",
   "nbconvert_exporter": "python",
   "pygments_lexer": "ipython3",
   "version": "3.8.5"
  }
 },
 "nbformat": 4,
 "nbformat_minor": 4
}
