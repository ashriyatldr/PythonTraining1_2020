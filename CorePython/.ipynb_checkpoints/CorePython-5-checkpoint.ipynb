{
 "cells": [
  {
   "cell_type": "code",
   "execution_count": null,
   "metadata": {},
   "outputs": [],
   "source": [
    "# Control Statements\n",
    "    # if statement\n",
    "    # while looping statement\n",
    "    # for looping statement\n",
    "    # break statement\n",
    "    # continue statement\n",
    "    # return\n",
    "    # pass"
   ]
  },
  {
   "cell_type": "code",
   "execution_count": null,
   "metadata": {},
   "outputs": [],
   "source": [
    "# Conditional Operators | Create Conditions\n",
    "# ==, !=, >, <, >=, <="
   ]
  },
  {
   "cell_type": "markdown",
   "metadata": {},
   "source": [
    "### if Statement"
   ]
  },
  {
   "cell_type": "code",
   "execution_count": null,
   "metadata": {},
   "outputs": [],
   "source": [
    "# if statement\n",
    "\"\"\"\n",
    "if condition:\n",
    "    statement(s) if true\n",
    "\"\"\""
   ]
  },
  {
   "cell_type": "code",
   "execution_count": null,
   "metadata": {},
   "outputs": [],
   "source": [
    "#Example-1\n",
    "var1 = 0\n",
    "if var1 == 0:\n",
    "    print(\"Zero\")\n",
    "print(\"END\")"
   ]
  },
  {
   "cell_type": "code",
   "execution_count": null,
   "metadata": {},
   "outputs": [],
   "source": [
    "var1 = int(input(\"Enter any number 0-5 : \"))\n",
    "if var1 == 0:\n",
    "    print(\"Zero\")\n",
    "if var1 == 1:\n",
    "    print(\"One\")    \n",
    "if var1 == 2:\n",
    "    print(\"Two\")    \n",
    "if var1 == 3:\n",
    "    print(\"Three\")    \n",
    "if var1 == 4:\n",
    "    print(\"Four\")\n",
    "if var1 == 5:\n",
    "    print(\"Five\")    \n",
    "print(\"END\")"
   ]
  },
  {
   "cell_type": "code",
   "execution_count": null,
   "metadata": {},
   "outputs": [],
   "source": [
    "# if ... else Statement\n",
    "\"\"\"\n",
    "if condition:\n",
    "    Statement - True\n",
    "else:\n",
    "    Statement - False\n",
    "\"\"\""
   ]
  },
  {
   "cell_type": "code",
   "execution_count": null,
   "metadata": {},
   "outputs": [],
   "source": [
    "# Example-1\n",
    "var1 = 0\n",
    "if var1 == 0:\n",
    "    print(\"Zero\")\n",
    "else:\n",
    "    print(\"Others\")"
   ]
  },
  {
   "cell_type": "code",
   "execution_count": null,
   "metadata": {},
   "outputs": [],
   "source": [
    "# Example-2\n",
    "var1 = int(input(\"Enter any number : \"))\n",
    "if var1 == 0:\n",
    "    print(\"Zero\")\n",
    "else:\n",
    "    print(\"Others\")"
   ]
  },
  {
   "cell_type": "code",
   "execution_count": null,
   "metadata": {},
   "outputs": [],
   "source": [
    "# if ...elif... else Statement\n",
    "# elif Statement\n",
    "\"\"\"\n",
    "if condition1:\n",
    "    Statement1\n",
    "elif condition2:\n",
    "    Statement2\n",
    "elif condition3:\n",
    "    Statement-3\n",
    "--------------------\n",
    "elif conditionN:\n",
    "    StatementN\n",
    "else:\n",
    "    False Statement\n",
    "\"\"\""
   ]
  },
  {
   "cell_type": "code",
   "execution_count": null,
   "metadata": {},
   "outputs": [],
   "source": [
    "# Example\n",
    "var1 = int(input(\"Enter any number : 1-7 : \"))\n",
    "if var1 == 1:\n",
    "    print(\"SUN\")\n",
    "elif var1 == 2:\n",
    "    print(\"MON\")\n",
    "elif var1 == 3:\n",
    "    print(\"TUE\")    \n",
    "elif var1 == 4:\n",
    "    print(\"WED\")\n",
    "elif var1 == 5:\n",
    "    print(\"THU\")        \n",
    "elif var1 == 6:\n",
    "    print(\"FRI\")\n",
    "elif var1 == 7:\n",
    "    print(\"SAT\")        \n",
    "else:\n",
    "    print(\"Others\")"
   ]
  },
  {
   "cell_type": "code",
   "execution_count": null,
   "metadata": {},
   "outputs": [],
   "source": [
    "# Nested if Statement\n",
    "\"\"\"\n",
    "if condition1\n",
    "    if condition2\n",
    "        if conditionN\n",
    "            Statement(s)\n",
    "\"\"\""
   ]
  },
  {
   "cell_type": "code",
   "execution_count": null,
   "metadata": {},
   "outputs": [],
   "source": [
    "# Example-1\n",
    "var1 = 8\n",
    "var2 = 5\n",
    "var3 = 4\n",
    "\n",
    "if var1>var2:\n",
    "    if var1>var3:\n",
    "        print(var1)"
   ]
  },
  {
   "cell_type": "code",
   "execution_count": null,
   "metadata": {},
   "outputs": [],
   "source": [
    "# if Statement with multiple conditions\n",
    "\"\"\"\n",
    "    if (condition1 and condition2 or condition3)\n",
    "        Statement for true\n",
    "\"\"\""
   ]
  },
  {
   "cell_type": "code",
   "execution_count": null,
   "metadata": {},
   "outputs": [],
   "source": [
    "var1 = 8\n",
    "var2 = 5\n",
    "var3 = 4\n",
    "\n",
    "if (var1>var2) and (var1>var3):\n",
    "    print(var1)"
   ]
  },
  {
   "cell_type": "markdown",
   "metadata": {},
   "source": [
    "### Looping Statement"
   ]
  },
  {
   "cell_type": "code",
   "execution_count": null,
   "metadata": {},
   "outputs": [],
   "source": [
    "# while looping statement\n",
    "\"\"\"\n",
    "while condition:\n",
    "    statement_for_true\n",
    "\"\"\"\n",
    "\n",
    "# Loop Designing\n",
    "    # start_no\n",
    "    # stop_no\n",
    "    # condition\n",
    "    # statement\n",
    "    # modifier\n",
    "\n",
    "start_no = 1\n",
    "stop_no = 10\n",
    "start_no<=stop_no\n",
    "print(\"Hello\")\n",
    "start_no+=1"
   ]
  },
  {
   "cell_type": "code",
   "execution_count": null,
   "metadata": {},
   "outputs": [],
   "source": [
    "# Print Hello 10 times\n",
    "start_no = 1\n",
    "stop_no = 10\n",
    "while start_no<=stop_no:\n",
    "    print(\"Hello\")\n",
    "    start_no+=1"
   ]
  },
  {
   "cell_type": "code",
   "execution_count": null,
   "metadata": {},
   "outputs": [],
   "source": [
    "# Print 1- 10\n",
    "start_no = 1\n",
    "stop_no = 10\n",
    "while start_no<=stop_no:\n",
    "    print(start_no)\n",
    "    start_no+=1"
   ]
  },
  {
   "cell_type": "code",
   "execution_count": null,
   "metadata": {},
   "outputs": [],
   "source": [
    "# Print 10- 1\n",
    "start_no = 10\n",
    "stop_no = 1\n",
    "while start_no>=stop_no:\n",
    "    print(start_no)\n",
    "    start_no-=1"
   ]
  },
  {
   "cell_type": "code",
   "execution_count": null,
   "metadata": {},
   "outputs": [],
   "source": [
    "# Print sum of 1 to 10\n",
    "start_no = 1\n",
    "stop_no = 10\n",
    "result = 0\n",
    "while start_no<=stop_no:\n",
    "    result+=start_no\n",
    "    start_no+=1\n",
    "print(result)"
   ]
  },
  {
   "cell_type": "code",
   "execution_count": 4,
   "metadata": {},
   "outputs": [
    {
     "name": "stdout",
     "output_type": "stream",
     "text": [
      "5040\n"
     ]
    }
   ],
   "source": [
    "# Print factorial of 10\n",
    "start_no = 1\n",
    "stop_no = 7\n",
    "result = 1\n",
    "while start_no<=stop_no:\n",
    "    result*=start_no\n",
    "    start_no+=1\n",
    "print(result)"
   ]
  },
  {
   "cell_type": "code",
   "execution_count": 5,
   "metadata": {},
   "outputs": [
    {
     "data": {
      "text/plain": [
       "'\\nfor range(start, end):\\n    Statement\\n'"
      ]
     },
     "execution_count": 5,
     "metadata": {},
     "output_type": "execute_result"
    }
   ],
   "source": [
    "# for Loop\n",
    "\"\"\"\n",
    "for range(start, end):\n",
    "    Statement\n",
    "\"\"\"    "
   ]
  },
  {
   "cell_type": "code",
   "execution_count": 6,
   "metadata": {},
   "outputs": [
    {
     "name": "stdout",
     "output_type": "stream",
     "text": [
      "0\n",
      "1\n",
      "2\n",
      "3\n",
      "4\n",
      "5\n",
      "6\n",
      "7\n",
      "8\n",
      "9\n"
     ]
    }
   ],
   "source": [
    "for i in range(10):\n",
    "    print(i)"
   ]
  },
  {
   "cell_type": "code",
   "execution_count": 8,
   "metadata": {},
   "outputs": [
    {
     "name": "stdout",
     "output_type": "stream",
     "text": [
      "1\n",
      "2\n",
      "3\n",
      "4\n",
      "5\n",
      "6\n",
      "7\n",
      "8\n",
      "9\n",
      "10\n"
     ]
    }
   ],
   "source": [
    "for i in range(1, 11):\n",
    "    print(i)"
   ]
  },
  {
   "cell_type": "code",
   "execution_count": 9,
   "metadata": {},
   "outputs": [
    {
     "name": "stdout",
     "output_type": "stream",
     "text": [
      "1\n",
      "3\n",
      "5\n",
      "7\n",
      "9\n"
     ]
    }
   ],
   "source": [
    "for i in range(1, 11, 2):\n",
    "    print(i)"
   ]
  },
  {
   "cell_type": "code",
   "execution_count": 21,
   "metadata": {},
   "outputs": [
    {
     "name": "stdout",
     "output_type": "stream",
     "text": [
      "13\n",
      "[1, 2, 4, 5, 6, 7, 8, 2, 3, 4, 57, 8, 90]\n",
      "1\n",
      "2\n",
      "4\n",
      "5\n",
      "6\n",
      "7\n",
      "8\n",
      "2\n",
      "3\n",
      "4\n",
      "57\n",
      "8\n",
      "90\n"
     ]
    }
   ],
   "source": [
    "# List and Loop\n",
    "list1 = [1,2,4,5,6,7,8,2,3,4,57,8,90]\n",
    "count = len(list1)\n",
    "print(count)\n",
    "print(list1)\n",
    "for i in range(count):\n",
    "    print(list1[i])"
   ]
  },
  {
   "cell_type": "code",
   "execution_count": 24,
   "metadata": {},
   "outputs": [
    {
     "name": "stdout",
     "output_type": "stream",
     "text": [
      "1 x 1=1\n",
      "1 x 2=2\n",
      "1 x 3=3\n",
      "1 x 4=4\n",
      "1 x 5=5\n",
      "1 x 6=6\n",
      "1 x 7=7\n",
      "1 x 8=8\n",
      "1 x 9=9\n",
      "1 x 10=10\n",
      "2 x 1=2\n",
      "2 x 2=4\n",
      "2 x 3=6\n",
      "2 x 4=8\n",
      "2 x 5=10\n",
      "2 x 6=12\n",
      "2 x 7=14\n",
      "2 x 8=16\n",
      "2 x 9=18\n",
      "2 x 10=20\n",
      "3 x 1=3\n",
      "3 x 2=6\n",
      "3 x 3=9\n",
      "3 x 4=12\n",
      "3 x 5=15\n",
      "3 x 6=18\n",
      "3 x 7=21\n",
      "3 x 8=24\n",
      "3 x 9=27\n",
      "3 x 10=30\n",
      "4 x 1=4\n",
      "4 x 2=8\n",
      "4 x 3=12\n",
      "4 x 4=16\n",
      "4 x 5=20\n",
      "4 x 6=24\n",
      "4 x 7=28\n",
      "4 x 8=32\n",
      "4 x 9=36\n",
      "4 x 10=40\n",
      "5 x 1=5\n",
      "5 x 2=10\n",
      "5 x 3=15\n",
      "5 x 4=20\n",
      "5 x 5=25\n",
      "5 x 6=30\n",
      "5 x 7=35\n",
      "5 x 8=40\n",
      "5 x 9=45\n",
      "5 x 10=50\n"
     ]
    }
   ],
   "source": [
    "# Nested Structure\n",
    "\"\"\"\n",
    "Loop1\n",
    "    Loop2\n",
    "        Statement\n",
    "\n",
    "if condition:\n",
    "    loop1\n",
    "\n",
    "loop1\n",
    "    if condition\n",
    "\"\"\"\n",
    "\n",
    "for i in range(1, 6):\n",
    "    for j in range(1, 11):\n",
    "        print(str(i)+\" x \"+str(j)+\"=\"+str(i*j))"
   ]
  },
  {
   "cell_type": "code",
   "execution_count": 30,
   "metadata": {},
   "outputs": [
    {
     "name": "stdout",
     "output_type": "stream",
     "text": [
      "1\n",
      "2\n",
      "3\n",
      "4\n"
     ]
    }
   ],
   "source": [
    "# break statement\n",
    "for i in range(1, 11):\n",
    "    if i == 5:\n",
    "        break\n",
    "    else:\n",
    "        print(i)"
   ]
  },
  {
   "cell_type": "code",
   "execution_count": 31,
   "metadata": {},
   "outputs": [
    {
     "name": "stdout",
     "output_type": "stream",
     "text": [
      "1\n",
      "2\n",
      "3\n",
      "4\n",
      "6\n",
      "7\n",
      "8\n",
      "9\n",
      "10\n"
     ]
    }
   ],
   "source": [
    "# continue statement\n",
    "for i in range(1, 11):\n",
    "    if i == 5:\n",
    "        continue\n",
    "    else:\n",
    "        print(i)"
   ]
  },
  {
   "cell_type": "code",
   "execution_count": 32,
   "metadata": {},
   "outputs": [],
   "source": [
    "# return\n",
    "def f1():\n",
    "    return \"KTM\""
   ]
  },
  {
   "cell_type": "code",
   "execution_count": 37,
   "metadata": {},
   "outputs": [],
   "source": [
    "# pass\n",
    "def f2():\n",
    "    pass"
   ]
  },
  {
   "cell_type": "code",
   "execution_count": 39,
   "metadata": {},
   "outputs": [
    {
     "name": "stdout",
     "output_type": "stream",
     "text": [
      "range(0, 5)\n"
     ]
    }
   ],
   "source": []
  },
  {
   "cell_type": "code",
   "execution_count": null,
   "metadata": {},
   "outputs": [],
   "source": []
  }
 ],
 "metadata": {
  "kernelspec": {
   "display_name": "Python 3",
   "language": "python",
   "name": "python3"
  },
  "language_info": {
   "codemirror_mode": {
    "name": "ipython",
    "version": 3
   },
   "file_extension": ".py",
   "mimetype": "text/x-python",
   "name": "python",
   "nbconvert_exporter": "python",
   "pygments_lexer": "ipython3",
   "version": "3.8.5"
  }
 },
 "nbformat": 4,
 "nbformat_minor": 4
}
