{
 "cells": [
  {
   "cell_type": "markdown",
   "metadata": {},
   "source": [
    "# Functions"
   ]
  },
  {
   "cell_type": "code",
   "execution_count": null,
   "metadata": {},
   "outputs": [],
   "source": [
    "# Expression(s)\n",
    "# Statement(s)\n",
    "# Block"
   ]
  },
  {
   "cell_type": "code",
   "execution_count": null,
   "metadata": {},
   "outputs": [],
   "source": [
    "#var1 = 90 # var1, =, 90  # Statement - Specific Task\n",
    "#print(var1) # print, (), var1 # Statement - Specific Task"
   ]
  },
  {
   "cell_type": "code",
   "execution_count": null,
   "metadata": {},
   "outputs": [],
   "source": [
    "# Block / Function - Static (Fixed Value)\n",
    "def block_1():\n",
    "    var1 = 90\n",
    "    print(var1)"
   ]
  },
  {
   "cell_type": "code",
   "execution_count": null,
   "metadata": {},
   "outputs": [],
   "source": [
    "block_1() # Call\n",
    "block_1() # Call\n",
    "block_1() # Call\n",
    "block_1() # Call"
   ]
  },
  {
   "cell_type": "code",
   "execution_count": null,
   "metadata": {},
   "outputs": [],
   "source": [
    "# Parameterized Function\n",
    "# Passing value to Function\n",
    "def block_2(num1):\n",
    "    print(num1)"
   ]
  },
  {
   "cell_type": "code",
   "execution_count": null,
   "metadata": {},
   "outputs": [],
   "source": [
    "tmp_no = 20\n",
    "block_2(tmp_no) # Call - block_2() ; we need to pass value to function"
   ]
  },
  {
   "cell_type": "code",
   "execution_count": null,
   "metadata": {},
   "outputs": [],
   "source": [
    "tmp_no = 21\n",
    "block_2(tmp_no)\n",
    "tmp_no = 85\n",
    "block_2(tmp_no)"
   ]
  },
  {
   "cell_type": "code",
   "execution_count": null,
   "metadata": {},
   "outputs": [],
   "source": [
    "def block_3(num2): # num2 : Parameter - Placeholder - Accept value from Calling Position\n",
    "    #num2+=1# num2=num2+1\n",
    "    num2=num2+1\n",
    "    print(num2)# Print value of num2"
   ]
  },
  {
   "cell_type": "code",
   "execution_count": null,
   "metadata": {},
   "outputs": [],
   "source": [
    "var3 = 1\n",
    "block_3(var3)# Copy and paste the value of var3 on num2 | var3 -> Argument | Calling Position"
   ]
  },
  {
   "cell_type": "code",
   "execution_count": null,
   "metadata": {},
   "outputs": [],
   "source": [
    "# Returning value from function\n",
    "# Return Type Function\n",
    "def block_4():\n",
    "    tmp = input(\"Enter your name : \") # Read value from keyboard\n",
    "    return tmp # Return value of tmp to calling position"
   ]
  },
  {
   "cell_type": "code",
   "execution_count": null,
   "metadata": {},
   "outputs": [],
   "source": [
    "var4 = block_4() # Call - Receive value from function \n",
    "print(\"Your name is : \"+var4)"
   ]
  },
  {
   "cell_type": "code",
   "execution_count": null,
   "metadata": {},
   "outputs": [],
   "source": [
    "# Parameterized and Return Type Function | Accept value and Return Value\n",
    "def block_5(str_tmp):\n",
    "    return str_tmp.upper()"
   ]
  },
  {
   "cell_type": "code",
   "execution_count": null,
   "metadata": {},
   "outputs": [],
   "source": [
    "str_name1 = \"broadway\"\n",
    "str_name2 = block_5(str_name1)\n",
    "print(str_name2)"
   ]
  },
  {
   "cell_type": "code",
   "execution_count": null,
   "metadata": {},
   "outputs": [],
   "source": [
    "# Categories of Function\n",
    "    # No Parameter; No Return Type\n",
    "    # Paramter; No Return Type\n",
    "    # No Parameter; Return Type\n",
    "    # Paramter; Return Type"
   ]
  },
  {
   "cell_type": "code",
   "execution_count": null,
   "metadata": {},
   "outputs": [],
   "source": [
    "# No Parameter; No Return Type\n",
    "def f1():\n",
    "    print(\"Hello world of Python\")"
   ]
  },
  {
   "cell_type": "code",
   "execution_count": null,
   "metadata": {},
   "outputs": [],
   "source": [
    "# Paramter; No Return Type\n",
    "def f2(var1):\n",
    "    print(var1.upper())"
   ]
  },
  {
   "cell_type": "code",
   "execution_count": null,
   "metadata": {},
   "outputs": [],
   "source": [
    "#No Parameter; Return Type\n",
    "def f3():\n",
    "    return input(\"Enter your name : \")"
   ]
  },
  {
   "cell_type": "code",
   "execution_count": null,
   "metadata": {},
   "outputs": [],
   "source": [
    "# Paramter; Return Type\n",
    "def f4(n1, n2):\n",
    "    return (n1+n2)"
   ]
  },
  {
   "cell_type": "code",
   "execution_count": null,
   "metadata": {},
   "outputs": [],
   "source": [
    "# Call function\n",
    "f1()\n",
    "\n",
    "tmp=\"Kathmandu\"\n",
    "f2(tmp)\n",
    "f2(\"Nepal\")\n",
    "\n",
    "tmp2 = f3()\n",
    "f2(tmp2)\n",
    "\n",
    "a, b = 8,5\n",
    "c = f4(a,b)\n",
    "print(c)"
   ]
  },
  {
   "cell_type": "code",
   "execution_count": null,
   "metadata": {},
   "outputs": [],
   "source": []
  },
  {
   "cell_type": "code",
   "execution_count": null,
   "metadata": {},
   "outputs": [],
   "source": [
    "# Keyword Argument\n",
    "def f5(sn, fullname, caddress):\n",
    "    print(sn, fullname.upper(), caddress.upper())"
   ]
  },
  {
   "cell_type": "code",
   "execution_count": null,
   "metadata": {},
   "outputs": [],
   "source": [
    "f5(1,'Krishna','Balaju')"
   ]
  },
  {
   "cell_type": "code",
   "execution_count": null,
   "metadata": {},
   "outputs": [],
   "source": [
    "f5(fullname='Krishna', caddress='Balaju', sn=1)"
   ]
  },
  {
   "cell_type": "code",
   "execution_count": null,
   "metadata": {},
   "outputs": [],
   "source": [
    "f5(caddress='Balaju', fullname='Krishna', sn=1)"
   ]
  },
  {
   "cell_type": "code",
   "execution_count": null,
   "metadata": {},
   "outputs": [],
   "source": [
    "# Default Argument/Parameter"
   ]
  },
  {
   "cell_type": "code",
   "execution_count": null,
   "metadata": {},
   "outputs": [],
   "source": [
    "def f6(sn, fullname, caddress='KTM'):\n",
    "    print(sn, fullname, caddress)"
   ]
  },
  {
   "cell_type": "code",
   "execution_count": null,
   "metadata": {},
   "outputs": [],
   "source": [
    "f6(2,'Rupesh Shrestha','Lat')"
   ]
  },
  {
   "cell_type": "code",
   "execution_count": null,
   "metadata": {},
   "outputs": [],
   "source": [
    "f6(3, 'Rupesh','BHK')"
   ]
  },
  {
   "cell_type": "code",
   "execution_count": null,
   "metadata": {},
   "outputs": [],
   "source": [
    "def f7(n1=0, n2=0, n3=0):\n",
    "    print(n1+n2+n3)"
   ]
  },
  {
   "cell_type": "code",
   "execution_count": null,
   "metadata": {},
   "outputs": [],
   "source": [
    "print(f7(2))"
   ]
  },
  {
   "cell_type": "code",
   "execution_count": null,
   "metadata": {},
   "outputs": [],
   "source": [
    "print(f7(2, 4))"
   ]
  },
  {
   "cell_type": "code",
   "execution_count": null,
   "metadata": {},
   "outputs": [],
   "source": [
    "print(f7(7,5,2))"
   ]
  },
  {
   "cell_type": "code",
   "execution_count": null,
   "metadata": {},
   "outputs": [],
   "source": [
    "# Recrusive Function | Function Call Itself.\n",
    "def f1():\n",
    "    print(\"Hello\")\n",
    "    f1()"
   ]
  },
  {
   "cell_type": "code",
   "execution_count": null,
   "metadata": {},
   "outputs": [],
   "source": [
    "#f1()"
   ]
  },
  {
   "cell_type": "code",
   "execution_count": 14,
   "metadata": {},
   "outputs": [],
   "source": [
    "# Print 1 to N (MAX)\n",
    "MAX = 10\n",
    "def f2(num1):    \n",
    "    if num1 > MAX:\n",
    "        return\n",
    "    print(num1)\n",
    "    f2(num1+1)"
   ]
  },
  {
   "cell_type": "code",
   "execution_count": 15,
   "metadata": {},
   "outputs": [],
   "source": [
    "#f2(1)"
   ]
  },
  {
   "cell_type": "code",
   "execution_count": 26,
   "metadata": {},
   "outputs": [],
   "source": [
    "# Print Sum of 1 to N (MAX) | 1, 2, 3, 4, 5 => 15\n",
    "def f3(num1):\n",
    "    if num1==1:\n",
    "        return 1\n",
    "    else:\n",
    "        return num1+ f3(num1-1)"
   ]
  },
  {
   "cell_type": "code",
   "execution_count": 30,
   "metadata": {},
   "outputs": [
    {
     "data": {
      "text/plain": [
       "15"
      ]
     },
     "execution_count": 30,
     "metadata": {},
     "output_type": "execute_result"
    }
   ],
   "source": [
    "f3(5)"
   ]
  },
  {
   "cell_type": "code",
   "execution_count": 33,
   "metadata": {},
   "outputs": [],
   "source": [
    "def f4(num1):\n",
    "    if num1==1:\n",
    "        return 1\n",
    "    else:\n",
    "        return num1 * f4(num1-1)"
   ]
  },
  {
   "cell_type": "code",
   "execution_count": 35,
   "metadata": {},
   "outputs": [
    {
     "data": {
      "text/plain": [
       "3628800"
      ]
     },
     "execution_count": 35,
     "metadata": {},
     "output_type": "execute_result"
    }
   ],
   "source": [
    "f4(10)"
   ]
  },
  {
   "cell_type": "code",
   "execution_count": 41,
   "metadata": {},
   "outputs": [],
   "source": [
    "# Nested Function\n",
    "def f1(num1):\n",
    "    f2(num1+1)\n",
    "def f2(num1):\n",
    "    f3(num1+1)\n",
    "def f3(num1):\n",
    "    print(num1)"
   ]
  },
  {
   "cell_type": "code",
   "execution_count": 40,
   "metadata": {},
   "outputs": [
    {
     "name": "stdout",
     "output_type": "stream",
     "text": [
      "12\n"
     ]
    }
   ],
   "source": [
    "f1(10)"
   ]
  },
  {
   "cell_type": "code",
   "execution_count": 42,
   "metadata": {},
   "outputs": [],
   "source": [
    "# Task-1\n",
    "    # Accept inputs from users (roolno, fullname, class, sub1, sub2, sub3)\n",
    "    # Process (total, average, result, grade)\n",
    "    # Print (total, average, result, grade)\n",
    "    # Use User Definded Functions"
   ]
  }
 ],
 "metadata": {
  "kernelspec": {
   "display_name": "Python 3",
   "language": "python",
   "name": "python3"
  },
  "language_info": {
   "codemirror_mode": {
    "name": "ipython",
    "version": 3
   },
   "file_extension": ".py",
   "mimetype": "text/x-python",
   "name": "python",
   "nbconvert_exporter": "python",
   "pygments_lexer": "ipython3",
   "version": "3.8.5"
  }
 },
 "nbformat": 4,
 "nbformat_minor": 4
}
