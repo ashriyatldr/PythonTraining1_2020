{
 "cells": [
  {
   "cell_type": "code",
   "execution_count": null,
   "metadata": {},
   "outputs": [],
   "source": [
    "# GUI Application Development\n",
    "# tkinter\n",
    "    # https://docs.python.org/3/library/tkinter.html"
   ]
  },
  {
   "cell_type": "code",
   "execution_count": null,
   "metadata": {},
   "outputs": [],
   "source": [
    "# Creating Window\n",
    "from tkinter import *\n",
    "frame = Tk()\n",
    "frame.mainloop()"
   ]
  },
  {
   "cell_type": "code",
   "execution_count": null,
   "metadata": {},
   "outputs": [],
   "source": [
    "# Set Size\n",
    "from tkinter import *\n",
    "frame = Tk()\n",
    "frame.geometry(\"500x250\")# Rupak\n",
    "frame.mainloop()"
   ]
  },
  {
   "cell_type": "code",
   "execution_count": null,
   "metadata": {},
   "outputs": [],
   "source": [
    "# Chnage System ICON (Left Top Corner) and Title of Window\n",
    "from tkinter import *\n",
    "frame = Tk()\n",
    "frame.title(\"MyWindow\")# Rupak\n",
    "frame.geometry(\"500x250\")# Rupak\n",
    "photo = PhotoImage(file = \"icon.png\")\n",
    "frame.iconphoto(False, photo)\n",
    "frame.mainloop()"
   ]
  },
  {
   "cell_type": "code",
   "execution_count": null,
   "metadata": {},
   "outputs": [],
   "source": [
    "# Disable to Resize Window\n",
    "# frame.resizable(False, False) \n",
    "from tkinter import *\n",
    "frame = Tk()\n",
    "frame.title(\"MyWindow\")# Rupak\n",
    "frame.geometry(\"500x250\")# Rupak\n",
    "frame.resizable(False, False) \n",
    "photo = PhotoImage(file = \"icon.png\")\n",
    "frame.iconphoto(False, photo)\n",
    "frame.mainloop()"
   ]
  },
  {
   "cell_type": "code",
   "execution_count": null,
   "metadata": {},
   "outputs": [],
   "source": [
    "# HW - Basic Controls\n",
    "- Window\n",
    "- Label\n",
    "- Text Box\n",
    "- Multi-Line Text Box\n",
    "- Radio Button\n",
    "- CheckBox\n",
    "- ComboBox/List Box\n",
    "- Button"
   ]
  },
  {
   "cell_type": "code",
   "execution_count": null,
   "metadata": {},
   "outputs": [],
   "source": [
    "# Label Class\n",
    "from tkinter import *\n",
    "frame = Tk()\n",
    "frame.title(\"MyWindow\")# Rupak\n",
    "frame.geometry(\"500x250\")# Rupak\n",
    "photo = PhotoImage(file = \"icon.png\")\n",
    "frame.iconphoto(False, photo)\n",
    "lbl_id = Label(frame, text=\"What is your name : \")\n",
    "lbl_id.place(x=100, y=50)\n",
    "frame.mainloop()"
   ]
  },
  {
   "cell_type": "code",
   "execution_count": 9,
   "metadata": {},
   "outputs": [],
   "source": [
    "# Text Box - Single Line Text Box\n",
    "# Entry Class\n",
    "from tkinter import *\n",
    "frame = Tk()\n",
    "frame.title(\"MyWindow\")\n",
    "frame.geometry(\"300x300\")\n",
    "photo= PhotoImage(file=\"icon.png\")\n",
    "frame.iconphoto(False, photo)\n",
    "\n",
    "lbl_num1 = Label(frame, text=\"First Number : \")\n",
    "lbl_num2 = Label(frame, text=\"Second Number : \")\n",
    "\n",
    "txt_num1 = Entry(frame, text=\"<N1>\")\n",
    "txt_num2 = Entry(frame, text=\"<N2>\")\n",
    "\n",
    "lbl_num1.place(x= 20, y=10)\n",
    "txt_num1.place(x= 120, y=10)\n",
    "\n",
    "lbl_num2.place(x= 20, y=40)\n",
    "txt_num2.place(x= 120, y=40)\n",
    "\n",
    "frame.mainloop()"
   ]
  },
  {
   "cell_type": "code",
   "execution_count": 2,
   "metadata": {},
   "outputs": [],
   "source": [
    "# Button - Class\n",
    "\n",
    "from tkinter import *\n",
    "frame = Tk()\n",
    "frame.title(\"MyWindow\")\n",
    "frame.geometry(\"300x200\")\n",
    "photo= PhotoImage(file=\"icon.png\")\n",
    "frame.iconphoto(False, photo)\n",
    "\n",
    "lbl_num1 = Label(frame, text=\"First Number : \")\n",
    "lbl_num2 = Label(frame, text=\"Second Number : \")\n",
    "lbl_result = Label(frame, text=\"Result : \")\n",
    "\n",
    "txt_num1 = Entry(frame, text=\"<N1>\")\n",
    "txt_num2 = Entry(frame, text=\"<N2>\")\n",
    "txt_num3 = Entry(frame, text=\"<N3>\")\n",
    "\n",
    "btn_add = Button(frame, text=\" + \")\n",
    "btn_diff = Button(frame, text=\" - \")\n",
    "btn_prd = Button(frame, text=\" X \")\n",
    "btn_div = Button(frame, text=\" / \")\n",
    "btn_close = Button(frame, text=\"CLOSE\")\n",
    "\n",
    "lbl_num1.place(x= 20, y=10)\n",
    "txt_num1.place(x= 120, y=10)\n",
    "\n",
    "lbl_num2.place(x= 20, y=40)\n",
    "txt_num2.place(x= 120, y=40)\n",
    "\n",
    "lbl_result.place(x = 20, y=100)\n",
    "txt_num3.place(x=120, y=100)\n",
    "\n",
    "btn_add.place(x = 120, y= 70)\n",
    "btn_diff.place(x = 150, y= 70)\n",
    "btn_prd.place(x=180, y=70)\n",
    "btn_div.place(x=210, y=70)\n",
    "btn_close.place(x = 120, y = 130)\n",
    "\n",
    "frame.mainloop()"
   ]
  },
  {
   "cell_type": "code",
   "execution_count": 18,
   "metadata": {},
   "outputs": [],
   "source": [
    "# Radio Button - Single Selection from Multiple Options\n",
    "# Radiobutton\n",
    "from tkinter import *\n",
    "frame = Tk()\n",
    "frame.geometry(\"400x250\")\n",
    "\n",
    "rb1 = Radiobutton(frame, text=\"Male\")\n",
    "rb2 = Radiobutton(frame, text=\"Female\")\n",
    "\n",
    "rb1.place(x = 20, y = 10)\n",
    "rb2.place(x = 20, y = 35)\n",
    "\n",
    "frame.mainloop()"
   ]
  },
  {
   "cell_type": "code",
   "execution_count": 19,
   "metadata": {},
   "outputs": [],
   "source": [
    "# Check Box - Multiple Selection from Multiple Options\n",
    "# Checkbutton\n",
    "\n",
    "from tkinter import *\n",
    "frame = Tk()\n",
    "frame.geometry(\"400x250\")\n",
    "\n",
    "cb1 = Checkbutton(frame, text=\"Reading\")\n",
    "cb2 = Checkbutton(frame, text=\"Playing\")\n",
    "\n",
    "cb1.place(x = 20, y = 10)\n",
    "cb2.place(x = 20, y = 35)\n",
    "\n",
    "frame.mainloop()"
   ]
  },
  {
   "cell_type": "code",
   "execution_count": 21,
   "metadata": {},
   "outputs": [],
   "source": [
    "# List Box - Multiple Oprtions (values)  hold\n",
    "# Listbox\n",
    "\n",
    "from tkinter import *\n",
    "frame = Tk()\n",
    "frame.geometry(\"400x250\")\n",
    "\n",
    "list1 = Listbox(frame)\n",
    "list1.insert(0, 'Abiu')\n",
    "list1.insert(1, 'Açaí')\n",
    "list1.insert(2, 'Apple')\n",
    "list1.insert(3, 'Apricot')\n",
    "list1.insert(4, 'Avocado')\n",
    "list1.insert(5, 'Banana')\n",
    "list1.insert(6, 'Bilberry')\n",
    "list1.insert(7, 'Blackberry')\n",
    "list1.insert(8, 'Blackcurrant')\n",
    "list1.insert(9, 'Black sapote')\n",
    "list1.insert(10, 'Blueberry')\n",
    "list1.insert(11, 'Boysenberry')\n",
    "list1.insert(12, 'Breadfruit')\n",
    "list1.insert(13, 'Cactus pear')\n",
    "list1.insert(14, 'Cempedak')\n",
    "list1.insert(15, 'Crab apple')\n",
    "list1.place(x=20, y=10)\n",
    "frame.mainloop()\n"
   ]
  },
  {
   "cell_type": "code",
   "execution_count": 1,
   "metadata": {},
   "outputs": [],
   "source": [
    "from tkinter import *\n",
    "from tkinter import messagebox\n",
    "\n",
    "from tkinter import *\n",
    "frame = Tk()\n",
    "frame.geometry(\"400x250\")\n",
    "\n",
    "messagebox.askretrycancel(\"Hi\",\"Retry Cancel\")\n",
    "\n",
    "frame.mainloop()"
   ]
  },
  {
   "cell_type": "code",
   "execution_count": null,
   "metadata": {},
   "outputs": [],
   "source": [
    "# Homework-1\n",
    "    # Button - Click Event\n",
    "    # Read Value from Entry - Text Box\n",
    "    # Read Value from Radio Button\n",
    "    # Read Value from Check Box\n",
    "    # Read Value from List Box\n",
    "    # Display value on Message Box"
   ]
  }
 ],
 "metadata": {
  "kernelspec": {
   "display_name": "Python 3",
   "language": "python",
   "name": "python3"
  },
  "language_info": {
   "codemirror_mode": {
    "name": "ipython",
    "version": 3
   },
   "file_extension": ".py",
   "mimetype": "text/x-python",
   "name": "python",
   "nbconvert_exporter": "python",
   "pygments_lexer": "ipython3",
   "version": "3.8.5"
  }
 },
 "nbformat": 4,
 "nbformat_minor": 4
}
