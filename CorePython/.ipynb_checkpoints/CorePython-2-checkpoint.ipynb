{
 "cells": [
  {
   "cell_type": "markdown",
   "metadata": {},
   "source": [
    "## Core Python\n",
    "* Basic IO\n",
    "* Characters Set\n",
    "* Keywords\n",
    "* Data Types"
   ]
  },
  {
   "cell_type": "markdown",
   "metadata": {},
   "source": [
    "### Basic IO"
   ]
  },
  {
   "cell_type": "code",
   "execution_count": null,
   "metadata": {},
   "outputs": [],
   "source": [
    "# variable = input(\"Prompt Message\") # Reading Value from Keyboard\n",
    "# print(variable)\n",
    "# print(\"String\"+str(varaible))"
   ]
  },
  {
   "cell_type": "code",
   "execution_count": null,
   "metadata": {},
   "outputs": [],
   "source": []
  },
  {
   "cell_type": "code",
   "execution_count": null,
   "metadata": {},
   "outputs": [],
   "source": [
    "# Play Sound file\n",
    "from playsound import playsound # from package (folder) import module"
   ]
  },
  {
   "cell_type": "code",
   "execution_count": null,
   "metadata": {},
   "outputs": [],
   "source": [
    "# playsound('David_Renda.mp3')"
   ]
  },
  {
   "cell_type": "code",
   "execution_count": null,
   "metadata": {},
   "outputs": [],
   "source": [
    "# Task-1\n",
    "    # Record sound\n",
    "    # Sound to Text\n",
    "    # Text to Sound"
   ]
  },
  {
   "cell_type": "code",
   "execution_count": null,
   "metadata": {},
   "outputs": [],
   "source": [
    "# Start-\n",
    "# - Do you want to record (y/n) ? y\n",
    "# - Start record\n",
    "# - Stop record\n",
    "# - Play record\n",
    "# - Sound to text\n",
    "# - Text to sound"
   ]
  },
  {
   "cell_type": "markdown",
   "metadata": {},
   "source": [
    "### Characters Set"
   ]
  },
  {
   "cell_type": "code",
   "execution_count": null,
   "metadata": {},
   "outputs": [],
   "source": []
  },
  {
   "cell_type": "code",
   "execution_count": null,
   "metadata": {},
   "outputs": [],
   "source": [
    "# Keywords\n",
    "import keyword"
   ]
  },
  {
   "cell_type": "code",
   "execution_count": null,
   "metadata": {},
   "outputs": [],
   "source": [
    "dir(keyword)\n",
    "# help(keyword)\n",
    "print(keyword.kwlist)\n",
    "words = keyword.kwlist\n",
    "print(len(words))"
   ]
  },
  {
   "cell_type": "code",
   "execution_count": null,
   "metadata": {},
   "outputs": [],
   "source": [
    "# Identifier \n",
    "# Varaibale, Class, Function, Object, Constraints\n",
    "# Must start with Alphabet\n",
    "# Can have digit and _\n",
    "# Cannt be keyword\n",
    "# Case Sensitive\n",
    "\n",
    "# Note-\n",
    "# camelCase - Java (Not)\n",
    "# PascalCase - ClassName\n",
    "# snake_case - variable, object, function"
   ]
  },
  {
   "cell_type": "code",
   "execution_count": null,
   "metadata": {},
   "outputs": [],
   "source": [
    "from sys import getsizeof"
   ]
  },
  {
   "cell_type": "code",
   "execution_count": null,
   "metadata": {},
   "outputs": [],
   "source": [
    "# Variables\n",
    "var1 = None # declare\n",
    "var1 = True # declare and initialize\n",
    "print(var1) # Value Access\n",
    "var1 = False  # Update\n",
    "var2 = var1  # Access and Assign\n",
    "\n",
    "print(id(var1)) # Memory Address\n",
    "print(id(var2))\n",
    "memory = id(var1) # 140730681190256\n",
    "\n",
    "print(type(var1)) # Type of Value\n",
    "print(type(var2))\n",
    "\n",
    "# del var1\n",
    "# del var2\n",
    "\n",
    "var1 = 1234567891011121413151617181920\n",
    "print(getsizeof(var1))\n",
    "\n",
    "# print(dir())\n",
    "# print()\n",
    "# print(vars())\n",
    "# print()\n",
    "# print(locals())\n",
    "# print()\n",
    "# print(globals())"
   ]
  },
  {
   "cell_type": "code",
   "execution_count": null,
   "metadata": {},
   "outputs": [],
   "source": [
    "# Task: - Retrieve value from memory address.\n",
    "# Task - Retrieve all the variables of program (process)."
   ]
  },
  {
   "cell_type": "markdown",
   "metadata": {},
   "source": [
    "# Data Types"
   ]
  },
  {
   "cell_type": "code",
   "execution_count": null,
   "metadata": {},
   "outputs": [],
   "source": [
    "# Boolean - True/False\n",
    "var1 = True # False\n",
    "print(var1)\n",
    "var1 = False\n",
    "print(id(var1))\n",
    "print(type(var1)) # Value type\n",
    "var2 = var1\n",
    "print(getsizeof(var1))\n",
    "print(getsizeof(var2))\n",
    "del var1\n",
    "del var2\n",
    "print(dir())"
   ]
  },
  {
   "cell_type": "code",
   "execution_count": null,
   "metadata": {},
   "outputs": [],
   "source": [
    "# Integer - Whole Number (Range - MAX)\n",
    "var1 = 123\n",
    "var2 = var1\n",
    "var3 = 123\n",
    "print(var1)\n",
    "print(var2)\n",
    "print(id(var1))\n",
    "print(id(var2))\n",
    "print(id(var3))\n",
    "print(type(var1))\n",
    "print(type(var2))\n",
    "print(getsizeof(var1))\n",
    "print(getsizeof(var2))\n",
    "del var1\n",
    "del var2\n",
    "print(dir())"
   ]
  },
  {
   "cell_type": "code",
   "execution_count": null,
   "metadata": {},
   "outputs": [],
   "source": [
    "# Float - Decimal Numbers\n",
    "var1 = 123456.78910111213789101112137891011121378910111213789101112137891011121378910111213789101112137891011121378910111213\n",
    "var2 = var1\n",
    "print(var1) # fixed decimal places?\n",
    "print(id(var1))\n",
    "print(id(var2))\n",
    "print(type(var1))\n",
    "print(type(var2))\n",
    "print(getsizeof(var1))\n",
    "print(getsizeof(var2))\n",
    "print()\n",
    "print(dir())\n",
    "del var1\n",
    "del var2\n",
    "print()\n",
    "print(dir())"
   ]
  },
  {
   "cell_type": "code",
   "execution_count": null,
   "metadata": {},
   "outputs": [],
   "source": [
    "# Complex - RealNumber.ImaginaryNumber\n",
    "var1 = 12345+6789J\n",
    "print(var1)\n",
    "print(id(var1))\n",
    "print(type(var1))\n",
    "print(getsizeof(var1))\n",
    "var2 = var1\n",
    "del var1\n",
    "print(dir())"
   ]
  },
  {
   "cell_type": "code",
   "execution_count": null,
   "metadata": {},
   "outputs": [],
   "source": [
    "# String\n",
    "var1 = \"Broadway InfoSys\"\n",
    "var2 = 'Broadway InfoSys'\n",
    "var3 = \"\"\"Broadway InfoSys\"\"\"\n",
    "var4 = '''Broadway InfoSys'''\n",
    "var5 = input(\"enter any things : \")\n",
    "var6 = var1 # Reference\n",
    "\n",
    "print(var1, var2, var3, var4, var5)\n",
    "print(id(var1))\n",
    "print(id(var2))\n",
    "print(id(var3))\n",
    "print(id(var4))\n",
    "print(id(var5))\n",
    "print(id(var6))\n",
    "print(type(var1))\n",
    "print(type(var2))\n",
    "print(type(var3))\n",
    "print(type(var4))\n",
    "print(type(var5))\n",
    "print(getsizeof(var5))\n",
    "del var5\n",
    "print(dir())"
   ]
  },
  {
   "cell_type": "code",
   "execution_count": null,
   "metadata": {},
   "outputs": [],
   "source": [
    "# List [] - Function's Parameter Type\n",
    "var1 = [True, 2, 3.25, 4+5j, \"Ktm\"]\n",
    "var2 = var1\n",
    "print(var1)\n",
    "print(id(var1))\n",
    "print(id(var2))\n",
    "print(type(var1))\n",
    "print(type(var2))\n",
    "print(getsizeof(var1))\n",
    "print(getsizeof(var2))\n",
    "del var1\n",
    "del var2\n",
    "print(dir())"
   ]
  },
  {
   "cell_type": "code",
   "execution_count": null,
   "metadata": {},
   "outputs": [],
   "source": [
    "# Tuple () - Function's Return Tupe | Read only\n",
    "var1 = (True, 2, 3.25, 4+5j, \"Ktm\")\n",
    "var2 = var1\n",
    "print(var1)\n",
    "print(id(var1))\n",
    "print(id(var2))\n",
    "print(type(var1))\n",
    "print(type(var2))\n",
    "print(getsizeof(var1))\n",
    "print(getsizeof(var2))\n",
    "del var1\n",
    "del var2\n",
    "print(dir())"
   ]
  },
  {
   "cell_type": "code",
   "execution_count": null,
   "metadata": {},
   "outputs": [],
   "source": [
    "# Referencing\n",
    "var1 = [True, 2, 3.25, 4+5j, \"Ktm\"]\n",
    "var2 = var1\n",
    "print(var1)\n",
    "print(var2)\n",
    "print(id(var1))\n",
    "print(id(var2))\n",
    "var2[4]='Nepal'\n",
    "print(var1)\n",
    "var2 = [1, 2, 3, 4, 5] # New Initialize\n",
    "print(var1)\n",
    "print(var2)"
   ]
  },
  {
   "cell_type": "code",
   "execution_count": null,
   "metadata": {},
   "outputs": [],
   "source": [
    "# Set {} - Operations - 25\n",
    "var1 = {1, 2, 3, 4, 5, 6, 4, 5, 1, 2, 1, 5}\n",
    "var2 = var1\n",
    "print(var1)\n",
    "print(var2)\n",
    "print(id(var1))\n",
    "print(id(var2))\n",
    "print(type(var1))\n",
    "print(type(var2))\n",
    "print(getsizeof(var1))\n",
    "print(getsizeof(var2))"
   ]
  },
  {
   "cell_type": "code",
   "execution_count": null,
   "metadata": {},
   "outputs": [],
   "source": [
    "# Dictionary {'key':value} - Return by API - JSON\n",
    "var1 = {'id':1, 'full_name':'Broadway'}\n",
    "var2 = var1\n",
    "print(var1)\n",
    "print(var2)\n",
    "print(id(var1))\n",
    "print(id(var1))\n",
    "print(type(var1))\n",
    "print(type(var2))\n",
    "print(getsizeof(var1))\n",
    "print(getsizeof(var2))\n",
    "\n",
    "print(var1.keys())\n",
    "print(var1.values())"
   ]
  },
  {
   "cell_type": "markdown",
   "metadata": {},
   "source": [
    "# Type Conversion"
   ]
  },
  {
   "cell_type": "code",
   "execution_count": null,
   "metadata": {},
   "outputs": [],
   "source": [
    "# Boolean -> Integer, Float, Complex, String\n",
    "var1 = True\n",
    "var2 = int(var1)\n",
    "var3 = float(var1)\n",
    "var4 = complex(var1)\n",
    "var5 = str(var1)\n",
    "\n",
    "print(type(var2))\n",
    "print(type(var3))\n",
    "print(type(var4))\n",
    "print(type(var5))\n",
    "\n",
    "print()\n",
    "print(var2)\n",
    "print(var3)\n",
    "print(var4)\n",
    "print(var5)\n",
    "\n",
    "var6 = bool(var5) # String to Boolean\n",
    "print(type(var6))\n",
    "print(var6)\n"
   ]
  },
  {
   "cell_type": "code",
   "execution_count": 16,
   "metadata": {},
   "outputs": [
    {
     "name": "stdout",
     "output_type": "stream",
     "text": [
      "<class 'bool'>\n",
      "<class 'float'>\n",
      "<class 'complex'>\n",
      "<class 'str'>\n",
      "\n",
      "True\n",
      "123.0\n",
      "(123+0j)\n",
      "123\n"
     ]
    }
   ],
   "source": [
    "# Integer -> Boolean, Float, Complex, String\n",
    "var1 = 123\n",
    "var2 = bool(var1)\n",
    "var3 = float(var1)\n",
    "var4 = complex(var1)\n",
    "var5 = str(var1)\n",
    "\n",
    "print(type(var2))\n",
    "print(type(var3))\n",
    "print(type(var4))\n",
    "print(type(var5))\n",
    "print()\n",
    "print(var2)\n",
    "print(var3)\n",
    "print(var4)\n",
    "print(var5)"
   ]
  },
  {
   "cell_type": "code",
   "execution_count": 17,
   "metadata": {},
   "outputs": [],
   "source": [
    "# Float -> Boolean, Integer, Complex, String"
   ]
  },
  {
   "cell_type": "code",
   "execution_count": 22,
   "metadata": {},
   "outputs": [
    {
     "name": "stdout",
     "output_type": "stream",
     "text": [
      "<class 'bool'>\n",
      "<class 'int'>\n",
      "<class 'complex'>\n",
      "<class 'str'>\n",
      "\n",
      "True\n",
      "123\n",
      "(123.6789+0j)\n",
      "123.6789\n"
     ]
    }
   ],
   "source": [
    "var1 = 123.6789\n",
    "var2 = bool(var1)\n",
    "var3 = int(var1)\n",
    "var4 = complex(var1)\n",
    "var5 = str(var1)\n",
    "\n",
    "print(type(var2))\n",
    "print(type(var3))\n",
    "print(type(var4))\n",
    "print(type(var5))\n",
    "print()\n",
    "print(var2)\n",
    "print(var3)\n",
    "print(var4)\n",
    "print(var5)"
   ]
  },
  {
   "cell_type": "code",
   "execution_count": 13,
   "metadata": {},
   "outputs": [
    {
     "name": "stdout",
     "output_type": "stream",
     "text": [
      "<class 'bool'>\n",
      "<class 'str'>\n",
      "\n",
      "True\n",
      "(123456+789j)\n",
      "\n",
      "123456.0\n",
      "789.0\n",
      "123456+789J\n",
      "<class 'str'>\n",
      "<class 'complex'>\n",
      "(123456+789j)\n"
     ]
    }
   ],
   "source": [
    "# Complex -> Boolean, Integer, Float, String\n",
    "var1 = 123456+789J\n",
    "var2 = bool(var1)\n",
    "# var3 = int(var1) # TypeError: can't convert complex to int\n",
    "# var4 = float(var1) # TypeError: can't convert complex to int\n",
    "var5 = str(var1)\n",
    "\n",
    "print(type(var2))\n",
    "print(type(var5))\n",
    "print()\n",
    "print(var2)\n",
    "print(var5)\n",
    "print()\n",
    "print(var1.real)\n",
    "print(var1.imag)\n",
    "#print(help(complex))\n",
    "\n",
    "var6 = int(var1.real)\n",
    "var7 = int(var1.imag)\n",
    "var8 = str(var6)+\"+\"+str(var7)+\"J\"\n",
    "print(var8)\n",
    "print(type(var8))\n",
    "var9 = complex(var8)\n",
    "print(type(var9))\n",
    "print(var9)"
   ]
  },
  {
   "cell_type": "code",
   "execution_count": 24,
   "metadata": {},
   "outputs": [
    {
     "name": "stdout",
     "output_type": "stream",
     "text": [
      "<class 'bool'>\n",
      "<class 'int'>\n",
      "<class 'float'>\n",
      "<class 'complex'>\n",
      "\n",
      "True\n",
      "1234560\n",
      "1234560.0\n",
      "(1234560+0j)\n"
     ]
    }
   ],
   "source": [
    "# String -> Boolean, Integer, Float, Complex\n",
    "\n",
    "var1 = \"1234560\"\n",
    "var2 = bool(var1)\n",
    "var3 = int(var1) # ValueError: invalid literal for int() with base 10: 'Kathmandu'\n",
    "var4 = float(var1) # ValueError: could not convert string to float: 'Kathmandu'\n",
    "var5 = complex(var1) # ValueError: complex() arg is a malformed string\n",
    "\n",
    "print(type(var2))\n",
    "print(type(var3))\n",
    "print(type(var4))\n",
    "print(type(var5))\n",
    "print()\n",
    "print(var2)\n",
    "print(var3)\n",
    "print(var4)\n",
    "print(var5)\n"
   ]
  },
  {
   "cell_type": "code",
   "execution_count": 6,
   "metadata": {},
   "outputs": [
    {
     "name": "stdout",
     "output_type": "stream",
     "text": [
      "Enter Integer No : 123456\n",
      "<class 'str'>\n",
      "<class 'int'>\n",
      "<class 'float'>\n",
      "<class 'complex'>\n"
     ]
    }
   ],
   "source": [
    "var1 = input(\"Enter Integer No : \")\n",
    "\n",
    "# Validation ?\n",
    "\n",
    "var2 = int(var1)\n",
    "var3 = float(var1)\n",
    "var4 = complex(var1)\n",
    "\n",
    "print(type(var1))\n",
    "print(type(var2))\n",
    "print(type(var3))\n",
    "print(type(var4))\n"
   ]
  },
  {
   "cell_type": "code",
   "execution_count": 22,
   "metadata": {},
   "outputs": [
    {
     "name": "stdout",
     "output_type": "stream",
     "text": [
      "0b10011\n",
      "19\n",
      "\n",
      "0o23\n",
      "19\n",
      "\n",
      "0x13\n",
      "19\n"
     ]
    }
   ],
   "source": [
    "# Numeric Operations\n",
    "\n",
    "var1 = 19 # Decimal Number\n",
    "\n",
    "# Binary Number\n",
    "var2 = bin(var1)\n",
    "print(var2)\n",
    "var3 = int(var2, 2)\n",
    "print(var3)\n",
    "print()\n",
    "\n",
    "# Octal Number\n",
    "var4 = oct(var1)\n",
    "print(var4)\n",
    "var5 = int(var4, 8)\n",
    "print(var5)\n",
    "print()\n",
    "\n",
    "# Hex Number\n",
    "var6 = hex(var1)\n",
    "print(var6)\n",
    "var7 = int(var6, 16)\n",
    "print(var7)"
   ]
  },
  {
   "cell_type": "code",
   "execution_count": null,
   "metadata": {},
   "outputs": [],
   "source": []
  }
 ],
 "metadata": {
  "kernelspec": {
   "display_name": "Python 3",
   "language": "python",
   "name": "python3"
  },
  "language_info": {
   "codemirror_mode": {
    "name": "ipython",
    "version": 3
   },
   "file_extension": ".py",
   "mimetype": "text/x-python",
   "name": "python",
   "nbconvert_exporter": "python",
   "pygments_lexer": "ipython3",
   "version": "3.8.5"
  }
 },
 "nbformat": 4,
 "nbformat_minor": 4
}
