{
 "cells": [
  {
   "cell_type": "markdown",
   "metadata": {},
   "source": [
    "## Collections\n",
    "* Array\n",
    "* String\n",
    "* List\n",
    "* Tuple\n",
    "* Set\n",
    "* Dictionary"
   ]
  },
  {
   "cell_type": "markdown",
   "metadata": {},
   "source": [
    "## 1. Array\n",
    "Similar type of multiple values."
   ]
  },
  {
   "cell_type": "code",
   "execution_count": null,
   "metadata": {},
   "outputs": [],
   "source": [
    "# Library Import \n",
    "from array import array\n",
    "\n",
    "# Exploring Array Class\n",
    "# print(dir(array))\n",
    "# print(help(array))"
   ]
  },
  {
   "cell_type": "code",
   "execution_count": null,
   "metadata": {},
   "outputs": [],
   "source": [
    "array1 = array('i', [])\n",
    "array2 = array1\n",
    "print(array1)\n",
    "print(type(array1))\n",
    "print(id(array1))\n",
    "print(isinstance(array1, array))\n",
    "print(isinstance(array2, array))\n",
    "print(len(array1))\n",
    "if len(array1)>=1:\n",
    "    print(max(array1))\n",
    "    print(min(array1))\n",
    "    print(sum(array1))"
   ]
  },
  {
   "cell_type": "code",
   "execution_count": null,
   "metadata": {},
   "outputs": [],
   "source": [
    "# append(self, v, /)\n",
    "array1 = array('i', [])\n",
    "\"\"\"\n",
    "array1.append(5)\n",
    "array1.append(4)\n",
    "array1.append(7)\n",
    "array1.append(1)\n",
    "array1.append(3)\n",
    "\"\"\"\n",
    "# Input values to Array\n",
    "# Keyboard\n",
    "for i in range(7):\n",
    "    val =int(input(\"Enter no : \"))\n",
    "    array1.append(val)\n",
    "# Database table # Task\n",
    "# File # Task"
   ]
  },
  {
   "cell_type": "code",
   "execution_count": null,
   "metadata": {},
   "outputs": [],
   "source": [
    "# Accessing and Simple Calculation\n",
    "print(array1)\n",
    "print(len(array1))\n",
    "print(max(array1))\n",
    "print(min(array1))\n",
    "print(sum(array1))"
   ]
  },
  {
   "cell_type": "code",
   "execution_count": null,
   "metadata": {},
   "outputs": [],
   "source": [
    "# Indexing Element of Array\n",
    "print(array1[0])\n",
    "print(array1[1])\n",
    "print(array1[2])\n",
    "print(array1[3])\n",
    "print(array1[4])\n",
    "print(array1[5])\n",
    "print(array1[6])\n",
    "\n",
    "# print(array1[7]) # IndexError: array index out of range\n",
    "\n",
    "print()\n",
    "print(array1[-1])\n",
    "print(array1[-7])\n",
    "\n",
    "# print(array1[-8]) # IndexError: array index out of range\n",
    "print()\n",
    "for i in range(0, 7):\n",
    "    print(array1[i])\n",
    "\n",
    "print()    \n",
    "for i in range(-7, 0, -1):\n",
    "    print(array1[i])"
   ]
  },
  {
   "cell_type": "code",
   "execution_count": null,
   "metadata": {},
   "outputs": [],
   "source": [
    "## Slicing\n",
    "print(array1[:])# All Values\n",
    "\n",
    "print()\n",
    "print(array1[0:7])\n",
    "\n",
    "print()\n",
    "print(array1[1:])\n",
    "\n",
    "print()\n",
    "print(array1[:7])\n",
    "\n",
    "print()\n",
    "print(array1[:10])\n",
    "\n",
    "print()\n",
    "print(array1[1:7:2])"
   ]
  },
  {
   "cell_type": "code",
   "execution_count": null,
   "metadata": {},
   "outputs": [],
   "source": [
    "# count(self, v, /)\n",
    "# print(array1.count(74))\n",
    "# print(array1.count(1))\n",
    "print(array1)\n",
    "val1 = int(input(\"Enter no to search : \"))\n",
    "res = array1.count(val1)\n",
    "if res>=1:\n",
    "    print(val1, \"found \", res, \"time(s)\")\n",
    "else:\n",
    "    print(val1, \"not found\")"
   ]
  },
  {
   "cell_type": "code",
   "execution_count": null,
   "metadata": {},
   "outputs": [],
   "source": [
    "# extend(self, bb, /)\n",
    "values=(5, 7, 8, 9, 1)\n",
    "array1.extend(values)\n",
    "print(array1)"
   ]
  },
  {
   "cell_type": "code",
   "execution_count": null,
   "metadata": {},
   "outputs": [],
   "source": [
    "# index(self, v, /)  # Search \n",
    "value = 9 # ValueError: array.index(x): x not in array\n",
    "res = array1.count(value)\n",
    "print(res)\n",
    "if res>=1:   \n",
    "    result = array1.index(value)    \n",
    "    print(result)\n",
    "else:\n",
    "    print(value, \"not found\")\n",
    "\n",
    "print(array1)"
   ]
  },
  {
   "cell_type": "code",
   "execution_count": null,
   "metadata": {},
   "outputs": [],
   "source": [
    "# insert(self, i, v, /)\n",
    "value=5\n",
    "array1.insert(0, value)\n",
    "print(array1)"
   ]
  },
  {
   "cell_type": "code",
   "execution_count": null,
   "metadata": {},
   "outputs": [],
   "source": [
    "# pop(self, i=-1, /)\n",
    "array1.pop()# Last Element\n",
    "print(array1)\n",
    "array1.pop(4) # 4th Element\n",
    "print(array1)"
   ]
  },
  {
   "cell_type": "code",
   "execution_count": null,
   "metadata": {},
   "outputs": [],
   "source": [
    "# remove(self, v, /)\n",
    "if array1.count(1):\n",
    "    array1.remove(1) # ValueError: array.remove(x): x not in array\n",
    "print(array1)\n",
    "if array1.count(5):\n",
    "    array1.remove(5)\n",
    "print(array1)"
   ]
  },
  {
   "cell_type": "code",
   "execution_count": null,
   "metadata": {},
   "outputs": [],
   "source": [
    "print(array1)\n",
    "# reverse(self, /)\n",
    "print(array1.reverse())\n",
    "print(array1)"
   ]
  },
  {
   "cell_type": "code",
   "execution_count": null,
   "metadata": {},
   "outputs": [],
   "source": [
    "# tolist(self, /)\n",
    "list1 = array1.tolist()\n",
    "print(list1)\n",
    "print(type(list1))\n",
    "print(isinstance(list1, list))"
   ]
  },
  {
   "cell_type": "code",
   "execution_count": null,
   "metadata": {},
   "outputs": [],
   "source": [
    "# tostring(self, /)\n",
    "str1 = array1.tostring()\n",
    "print(str1)\n",
    "print(type(str1))\n",
    "print(isinstance(str1, str))"
   ]
  },
  {
   "cell_type": "code",
   "execution_count": null,
   "metadata": {},
   "outputs": [],
   "source": [
    "print(array1.itemsize)\n",
    "print(array1.typecode)"
   ]
  },
  {
   "cell_type": "code",
   "execution_count": null,
   "metadata": {},
   "outputs": [],
   "source": [
    "# print(help(array))"
   ]
  },
  {
   "cell_type": "markdown",
   "metadata": {},
   "source": [
    "## 2. String"
   ]
  },
  {
   "cell_type": "code",
   "execution_count": null,
   "metadata": {},
   "outputs": [],
   "source": [
    "str1 = 'Broadway InfoSys'\n",
    "str1 = \"Broadway InfoSys\"\n",
    "str1 = '''Broadway InfoSys'''\n",
    "str1 = \"\"\"Broadway InfoSys\"\"\"\n",
    "\n",
    "print(str1)\n",
    "print(type(str1))\n",
    "print(id(str1))\n",
    "print(isinstance(str1, bool))\n",
    "print(isinstance(str1, int))\n",
    "print(isinstance(str1, float))\n",
    "print(isinstance(str1, complex))\n",
    "print(isinstance(str1, array))\n",
    "print(isinstance(str1, str))\n",
    "\n",
    "print(len(str1))\n",
    "print(min(str1))\n",
    "print(max(str1))\n",
    "print(list(enumerate(str1)))\n"
   ]
  },
  {
   "cell_type": "code",
   "execution_count": null,
   "metadata": {},
   "outputs": [],
   "source": [
    "# String Concatenation\n",
    "str1 =\"Kathmandu\"\n",
    "str2 =\", Nepal\"\n",
    "str3 = str1+str2\n",
    "print(str3)\n",
    "\n",
    "str4 = str3*2\n",
    "print(str3)\n",
    "\n",
    "str5 = ('Kathmandu'\n",
    "        ', Nepal')\n",
    "\n",
    "print(str5)\n",
    "\n",
    "str6 = \"Kathmandu, Nepal\""
   ]
  },
  {
   "cell_type": "code",
   "execution_count": null,
   "metadata": {},
   "outputs": [],
   "source": [
    "# String Indexing and Slicing\n",
    "\n",
    "# Indexing\n",
    "print(\"Indexing\")\n",
    "print(len(str6))# 0-15 (index)\n",
    "print(str6)\n",
    "print()\n",
    "print(str6[0])\n",
    "print(str6[9])\n",
    "print(str6[15])\n",
    "# print(str6[16]) # IndexError: string index out of range\n",
    "print(str6[-16])\n",
    "print(str6[-1])\n",
    "#print(str6[-17]) # IndexError: string index out of range\n",
    "\n",
    "# Slicing\n",
    "print()\n",
    "print(\"Slicing\")\n",
    "print(str6[:])\n",
    "print(str6[0:16])\n",
    "print(str6[4:13])\n",
    "print(str6[-16:-1])# \n",
    "print(str6[:16])\n",
    "print(str6[::1])\n",
    "print(str6[::-1])\n",
    "print(str6[0:20])"
   ]
  },
  {
   "cell_type": "code",
   "execution_count": null,
   "metadata": {},
   "outputs": [],
   "source": [
    "# Membership Operator (int | not in)\n",
    "str7 = 'Like many other popular programming languages, strings in Python are arrays of bytes representing unicode characters. However, Python does not have a character data type, a single character is simply a string with a length of 1. Square brackets can be used to access elements of the string.'"
   ]
  },
  {
   "cell_type": "code",
   "execution_count": null,
   "metadata": {},
   "outputs": [],
   "source": [
    "print(str7)"
   ]
  },
  {
   "cell_type": "code",
   "execution_count": null,
   "metadata": {},
   "outputs": [],
   "source": [
    "str0= ' a '\n",
    "result = str0 in str7\n",
    "print(result)"
   ]
  },
  {
   "cell_type": "code",
   "execution_count": null,
   "metadata": {},
   "outputs": [],
   "source": [
    "result = str7.count(str0)\n",
    "print(result)"
   ]
  },
  {
   "cell_type": "code",
   "execution_count": null,
   "metadata": {},
   "outputs": [],
   "source": [
    "result = str0 not in str7\n",
    "print(result)"
   ]
  },
  {
   "cell_type": "code",
   "execution_count": null,
   "metadata": {},
   "outputs": [],
   "source": [
    "# Identity Operator (is | is not)\n",
    "str1 =\"kathamndu\"\n",
    "str2 =\"Kathamndu\"\n",
    "\n",
    "print(id(str1))\n",
    "print(id(str2))\n",
    "\n",
    "if str1 is str2:\n",
    "    print(\"YES\")\n",
    "else:\n",
    "    print(\"NO\")\n",
    "\n",
    "if str1 is not str2:\n",
    "    print(\"NO\")\n",
    "else:\n",
    "    print(\"YES\")    "
   ]
  },
  {
   "cell_type": "code",
   "execution_count": null,
   "metadata": {},
   "outputs": [],
   "source": [
    "str1 = \"Python is an interpreted, high-level and general-purpose programming language. Created by Guido van Rossum who is currently a member of the Python Steering Council and first released in 1991, Python's design philosophy emphasizes code readability with its notable use of significant whitespace. Its language constructs and object-oriented approach aim to help programmers write clear, logical code for small and large-scale projects.\"\n",
    "\"\"\"\n",
    "for char in str1:\n",
    "    print(char)\n",
    "\"\"\""
   ]
  },
  {
   "cell_type": "code",
   "execution_count": null,
   "metadata": {},
   "outputs": [],
   "source": [
    "# String Formatting\n",
    "# Escape Squence\n",
    "print(\"Hello, \\\"Whats your name ?\\\"\")\n",
    "print(\"Hello\\\\Hi\")\n",
    "print(\"Hello\\nHi\")\n",
    "print(\"Hello\\tHi\")"
   ]
  },
  {
   "cell_type": "code",
   "execution_count": null,
   "metadata": {},
   "outputs": [],
   "source": [
    "# format function\n",
    "str1 = \"Kathmandu\"\n",
    "str2 = \", Nepal\"\n",
    "\n",
    "print(str1+str2)\n",
    "print(\"{} {}\".format(str1, str2))\n",
    "print(\"{0} {1}\".format(str1, str2))\n",
    "print(\"{1} {0}\".format(str1, str2))"
   ]
  },
  {
   "cell_type": "code",
   "execution_count": null,
   "metadata": {},
   "outputs": [],
   "source": [
    "# String Functions\n",
    "\n",
    "# capitalize(self, /)\n",
    "str1 = \"Kathmandu, NEPAL\"\n",
    "print(str1.capitalize())# Sentence Case\n",
    "\n",
    "# casefold(self, /)\n",
    "str1 = \"Kathmandu, NEPAL\"\n",
    "print(str1.casefold())# Lower Case\n",
    "\n",
    "#  center(self, width, fillchar=' ', /)\n",
    "str1 = \"Kathmandu, NEPAL\"\n",
    "print(str1.center(50))\n",
    "print(str1.center(len(str1)+2, '*'))\n",
    "\n",
    "# count(sub[, start[, end]]) -> int\n",
    "str1 = \"Kathmandu, NEPAL\"\n",
    "result = str1.count('a', 0, len(str1))\n",
    "print(result)\n",
    "\n",
    "# encode(self, /, encoding='utf-8', errors='strict') [Encrypt -> Decrypt]\n",
    "\n",
    "import base64\n",
    "\n",
    "# Encode\n",
    "str1 = \"Kathmandu, Nepal\"\n",
    "str2 = str1.encode('ascii')\n",
    "# print(str2) #b'Kathmandu, Nepal'\n",
    "print()\n",
    "print(str1)\n",
    "str3 = base64.b64encode(str2)\n",
    "print(str3)# b'S2F0aG1hbmR1LCBOZXBhbA=='\n",
    "\n",
    "# Decode\n",
    "print()\n",
    "str5 = base64.b64decode(str4)\n",
    "str6 = str5.decode('ascii')\n",
    "print(str6)\n",
    "\n",
    "# endswith(suffix[, start[, end]]) -> bool\n",
    "str1 = \"Kathmandu, Nepal\"\n",
    "print(str1.endswith('l'))\n",
    "\n",
    "str1 = \"Kathmandu, Nepal;\"\n",
    "print(str1.endswith(';'))\n",
    "print()\n",
    "\n",
    "# pandtabs(self, /, tabsize=8)\n",
    "str2 = \"KAthmandu\\tNepal\"\n",
    "print(str2)\n",
    "print(str2.expandtabs(50))\n",
    "print()"
   ]
  },
  {
   "cell_type": "code",
   "execution_count": null,
   "metadata": {},
   "outputs": [],
   "source": [
    "# find(sub[, start[, end]]) -> int\n",
    "str1 = \"\"\"\n",
    "    Return True if S ends with the specified suffix, False otherwise.\n",
    "    With optional start, test S beginning at that position.\n",
    "    With optional end, stop comparing S at that position.\n",
    "    suffix can also be a tuple of strings to try.\n",
    "\"\"\"\n",
    "print(str1)\n",
    "result = str1.find('zoo')\n",
    "print(result)\n",
    "\n",
    "# index(sub[, start[, end]]) -> int\n",
    "result = str1.index('the')\n",
    "print(result)\n",
    "print()\n",
    "\n",
    "# isalnum(self, /)\n",
    "str1=\"abc123\"\n",
    "print(str1.isalnum())\n",
    "str1=\"abc123#$\"\n",
    "print(str1.isalnum())\n",
    "print()\n",
    "\n",
    "# isalpha(self, /)\n",
    "str1=\"abc123\"\n",
    "print(str1.isalpha())\n",
    "str1=\"abc\"\n",
    "print(str1.isalpha())\n",
    "print()\n",
    "\n",
    "# isascii(self, /)\n",
    "str1=\"abc123\"\n",
    "print(str1.isascii())\n",
    "\n",
    "str1=\"नेपाल\"\n",
    "print(str1.isascii())\n",
    "print()\n",
    "\n",
    "# isdecimal(self, /) # Integer\n",
    "str1=\"123\"\n",
    "print(str1.isdecimal())\n",
    "str1=\"1230\"\n",
    "print(str1.isdecimal())"
   ]
  },
  {
   "cell_type": "code",
   "execution_count": null,
   "metadata": {},
   "outputs": [],
   "source": [
    "# isdigit(self, /)\n",
    "str1=\"123\"\n",
    "print(str1.isdigit())\n",
    "\n",
    "str1=\"123.2587\"\n",
    "print(str1.isdigit())\n",
    "\n",
    "str1=\"ABC\"\n",
    "print(str1.isdigit())\n",
    "print()\n",
    "\n",
    "# isidentifier(self, /)\n",
    "str1 = \"other\"\n",
    "print(str1.isidentifier())\n",
    "print()\n",
    "\n",
    "# islower(self, /)\n",
    "str1 = \"other\"\n",
    "print(str1.islower())\n",
    "\n",
    "str1 = \"LOWER\"\n",
    "print(str1.islower())\n",
    "print()\n",
    "\n",
    "# isnumeric(self, /)\n",
    "str1 = \"LOWER\"\n",
    "print(str1.isnumeric())\n",
    "\n",
    "str1 = \"1258\"\n",
    "print(str1.isnumeric())\n",
    "\n",
    "str1 = \"1258.258\"\n",
    "print(str1.isnumeric())\n",
    "print()\n",
    "\n",
    "# isprintable(self, /)\n",
    "str1 = \"1258.258\"\n",
    "print(str1.isprintable())\n",
    "\n",
    "str1 = \" \"\n",
    "print(str1.isprintable())\n",
    "print()\n",
    "\n",
    "# isspace(self, /)\n",
    "str1 = \" \"\n",
    "print(str1.isspace())\n",
    "print()\n",
    "\n",
    "# istitle(self, /)\n",
    "str1 = \"kathmandu\"\n",
    "print(str1.istitle())\n",
    "\n",
    "str1 = \"Kathmandu\"\n",
    "print(str1.istitle())\n",
    "print()\n",
    "\n",
    "# isupper(self, /)\n",
    "str1 =\"kathmandu\"\n",
    "print(str1.isupper())\n",
    "print(str1.islower())\n",
    "print()\n",
    "str1 =\"KATHAMNDU\"\n",
    "print(str1.isupper())\n",
    "print(str1.islower())"
   ]
  },
  {
   "cell_type": "code",
   "execution_count": null,
   "metadata": {},
   "outputs": [],
   "source": [
    "# join(self, iterable, /)\n",
    "str1 =\"KAthmandu\"\n",
    "str2=\"Nepal\"\n",
    "\n",
    "str3 = str1.join(str2)\n",
    "print(str3)\n",
    "print()\n",
    "\n",
    "# lower(self, /)\n",
    "# upper(self, /)\n",
    "\n",
    "str1 =\"KAthmandU\"\n",
    "print(str1.lower())\n",
    "print(str1.upper())\n"
   ]
  },
  {
   "cell_type": "markdown",
   "metadata": {},
   "source": [
    "## 3. List"
   ]
  },
  {
   "cell_type": "code",
   "execution_count": null,
   "metadata": {},
   "outputs": [],
   "source": [
    "# Collection of items (N Number)\n",
    "# Any type of Values\n",
    "# bool, int, float, complex, array, string, list, tuple, set, dictionary\n",
    "# Mutable (editable/updatable)"
   ]
  },
  {
   "cell_type": "code",
   "execution_count": null,
   "metadata": {},
   "outputs": [],
   "source": [
    "# dir(list)\n",
    "# help(list)\n",
    "# https://docs.python.org/3/tutorial/datastructures.html"
   ]
  },
  {
   "cell_type": "code",
   "execution_count": 3,
   "metadata": {},
   "outputs": [
    {
     "name": "stdout",
     "output_type": "stream",
     "text": [
      "<class 'list'>\n",
      "True\n",
      "0\n",
      "2575778147072\n",
      "[]\n",
      "[]\n",
      "Size :  56\n",
      "\n",
      "[1, 2.34, (345+6j), True, False, 'Kathmandu']\n",
      "\n",
      "['Bananas', 'Boysenberries', 'Blueberries', 'Bing Cherry', 'Cherries', 'Cantaloupe', 'Crab apples', 'Clementine', 'Cucumbers']\n"
     ]
    }
   ],
   "source": [
    "# Declare\n",
    "from sys import getsizeof\n",
    "\n",
    "list1 = []\n",
    "list2 = list1\n",
    "print(type(list1))\n",
    "print(isinstance(list1, list))\n",
    "print(len(list1))\n",
    "print(id(list1))\n",
    "print(list1)\n",
    "print(list2)\n",
    "print(\"Size : \", getsizeof(list1))\n",
    "\n",
    "list3 = list(())\n",
    "list4 = list([1,2,3,4,5,6])\n",
    "list5 = ([1, 2.34, 345+6J, True, False, 'Kathmandu'])\n",
    "\n",
    "from array import array\n",
    "array1 = array('i', [4, 6, 1, 2, 4])\n",
    "list6 = list(array1)\n",
    "\n",
    "list7 = [4, 5, 6, 7, [4,5,6]]\n",
    "list8 = list(('Apple','Banana'))\n",
    "\n",
    "list9 = ['Bananas', 'Boysenberries', 'Blueberries', 'Bing Cherry', 'Cherries', 'Cantaloupe', 'Crab apples', 'Clementine', 'Cucumbers']\n",
    "print()\n",
    "print(list5)\n",
    "print()\n",
    "print(list9)"
   ]
  },
  {
   "cell_type": "code",
   "execution_count": 4,
   "metadata": {},
   "outputs": [
    {
     "name": "stdout",
     "output_type": "stream",
     "text": [
      "9\n"
     ]
    }
   ],
   "source": [
    "print(len(list9)) #, 'Cucumbers'"
   ]
  },
  {
   "cell_type": "code",
   "execution_count": 5,
   "metadata": {},
   "outputs": [
    {
     "name": "stdout",
     "output_type": "stream",
     "text": [
      "Bananas\n",
      "Blueberries\n",
      "\n",
      "Clementine\n"
     ]
    }
   ],
   "source": [
    "# indexing\n",
    "print(list9[0])\n",
    "print(list9[2])\n",
    "\n",
    "val1 = list9[7]\n",
    "print()\n",
    "print(val1)\n",
    "# print(list9[8]) # IndexError: list index out of range"
   ]
  },
  {
   "cell_type": "code",
   "execution_count": 6,
   "metadata": {},
   "outputs": [
    {
     "name": "stdout",
     "output_type": "stream",
     "text": [
      "['Bananas', 'Boysenberries', 'Blueberries', 'Bing Cherry', 'Cherries', 'Cantaloupe', 'Crab apples', 'Clementine', 'Cucumbers']\n"
     ]
    }
   ],
   "source": [
    "print(list9)"
   ]
  },
  {
   "cell_type": "code",
   "execution_count": 7,
   "metadata": {},
   "outputs": [
    {
     "name": "stdout",
     "output_type": "stream",
     "text": [
      "['Bananas', 'Boysenberries', 'Blueberries', 'Bing Cherry', 'Cherries', 'Cantaloupe', 'Crab apples', 'Clementine', 'Cucumbers']\n",
      "\n",
      "['Bananas', 'Boysenberries', 'Blueberries', 'Bing Cherry', 'Cherries', 'Cantaloupe', 'Crab apples', 'Clementine', 'Cucumbers']\n",
      "\n",
      "['Bananas', 'Boysenberries', 'Blueberries', 'Bing Cherry', 'Cherries']\n",
      "\n",
      "['Bananas', 'Boysenberries', 'Blueberries', 'Bing Cherry', 'Cherries', 'Cantaloupe', 'Crab apples', 'Clementine', 'Cucumbers']\n",
      "\n",
      "['Bananas', 'Cherries', 'Cucumbers']\n",
      "\n",
      "['Bananas', 'Boysenberries', 'Blueberries', 'Bing Cherry', 'Cherries', 'Cantaloupe', 'Crab apples', 'Clementine', 'Cucumbers']\n"
     ]
    }
   ],
   "source": [
    "# Slicing\n",
    "print(list9[0:100])\n",
    "print()\n",
    "print(list9[0:])\n",
    "print()\n",
    "print(list9[:5])\n",
    "print()\n",
    "print(list9[:])\n",
    "print()\n",
    "print(list9[::4])\n",
    "\n",
    "var2 = list9[:] \n",
    "print()\n",
    "print(var2)"
   ]
  },
  {
   "cell_type": "code",
   "execution_count": null,
   "metadata": {},
   "outputs": [],
   "source": [
    "# List Functions"
   ]
  },
  {
   "cell_type": "code",
   "execution_count": null,
   "metadata": {},
   "outputs": [],
   "source": [
    "list1 = []\n",
    "print(type(list1))\n",
    "print(len(list1))\n",
    "\n",
    "# append(self, object, /)\n",
    "list1.append(5)\n",
    "print(list1)\n",
    "list1.append(8)\n",
    "print(list1)\n",
    "print(len(list1))\n",
    "\n",
    "#list1.append([2,3])\n",
    "#print(list1)"
   ]
  },
  {
   "cell_type": "code",
   "execution_count": null,
   "metadata": {},
   "outputs": [],
   "source": [
    "# clear(self, /)\n",
    "list1.clear()\n",
    "print(len(list1))\n",
    "print(list1)"
   ]
  },
  {
   "cell_type": "code",
   "execution_count": 12,
   "metadata": {},
   "outputs": [
    {
     "name": "stdout",
     "output_type": "stream",
     "text": [
      "\n",
      "[9, 3, 7]\n",
      "[9, 3, 7]\n",
      "\n",
      "[5, 3, 7]\n",
      "[5, 3, 7]\n",
      "\n",
      "2493713955200\n",
      "2493713955200\n"
     ]
    }
   ],
   "source": [
    "# Referencing\n",
    "list1 = [9, 3, 7]\n",
    "list2 = list1 \n",
    "print()\n",
    "print(list2)\n",
    "print(list1)\n",
    "\n",
    "# index 0->9, 1->3, 2->7\n",
    "list1[0]=5\n",
    "print()\n",
    "print(list1)\n",
    "print(list2)\n",
    "\n",
    "print()\n",
    "print(id(list1))\n",
    "print(id(list2))"
   ]
  },
  {
   "cell_type": "code",
   "execution_count": 13,
   "metadata": {},
   "outputs": [
    {
     "name": "stdout",
     "output_type": "stream",
     "text": [
      "\n",
      "2493713966592\n",
      "2493713966848\n",
      "\n",
      "[5, 7, 9]\n",
      "[5, 7, 9]\n"
     ]
    }
   ],
   "source": [
    "# copy(self, /)\n",
    "list1 = [5,7,9]\n",
    "list2 = list1.copy()\n",
    "print()\n",
    "print(id(list1))\n",
    "print(id(list2))\n",
    "print()\n",
    "print(list1)\n",
    "print(list2)"
   ]
  },
  {
   "cell_type": "code",
   "execution_count": 14,
   "metadata": {},
   "outputs": [
    {
     "name": "stdout",
     "output_type": "stream",
     "text": [
      "4\n"
     ]
    }
   ],
   "source": [
    "# count(self, value, /)\n",
    "list1 = [6, 3, 2, 1, 4, 5, 4, 6, 4, 6, 5, 6]\n",
    "result = list1.count(6)\n",
    "print(result)"
   ]
  },
  {
   "cell_type": "code",
   "execution_count": 15,
   "metadata": {},
   "outputs": [
    {
     "name": "stdout",
     "output_type": "stream",
     "text": [
      "\n",
      "[6, 3, 2, 1, 4, 5, 4, 6, 4, 6, 5, 6]\n",
      "[6, 3, 2, 1, 4, 5, 4, 6, 4, 6, 5, 6, 7, 1, 5, 2, 1, 8]\n"
     ]
    }
   ],
   "source": [
    "# extend(self, iterable, /)\n",
    "print()\n",
    "print(list1)\n",
    "list2 = [7, 1, 5, 2, 1, 8]\n",
    "list1.extend(list2)\n",
    "print(list1)"
   ]
  },
  {
   "cell_type": "code",
   "execution_count": 22,
   "metadata": {},
   "outputs": [
    {
     "name": "stdout",
     "output_type": "stream",
     "text": [
      "\n",
      "[6, 3, 2, 1, 4, 5, 4, 6, 4, 6, 5, 6, 7, 1, 5, 2, 1, 8]\n",
      "\n",
      "3\n",
      "\n",
      "3\n",
      "13\n",
      "16\n"
     ]
    }
   ],
   "source": [
    "# index(self, value, start=0, stop=9223372036854775807, /)\n",
    "print()\n",
    "print(list1)\n",
    "print()\n",
    "print(list1.count(1))\n",
    "print()\n",
    "result = list1.index(1, 0, len(list1))\n",
    "print(result)\n",
    "result = list1.index(1, result+1, len(list1))\n",
    "print(result)\n",
    "result = list1.index(1, result+1, len(list1))\n",
    "print(result)\n",
    "# result = list1.index(1, result+1, len(list1))\n",
    "# print(result)"
   ]
  },
  {
   "cell_type": "code",
   "execution_count": 15,
   "metadata": {},
   "outputs": [
    {
     "name": "stdout",
     "output_type": "stream",
     "text": [
      "[6, 8, 6, 7, 8]\n",
      "[6, 8, 6, 7, 9, 8]\n"
     ]
    }
   ],
   "source": [
    "# insert(self, index, object, /)\n",
    "list1 = [8, 6, 7, 8]\n",
    "list1.insert(0, 6)\n",
    "print(list1)\n",
    "list1.insert(4, 9)\n",
    "print(list1)"
   ]
  },
  {
   "cell_type": "code",
   "execution_count": 21,
   "metadata": {},
   "outputs": [
    {
     "name": "stdout",
     "output_type": "stream",
     "text": [
      "[7, 8]\n",
      "[7]\n"
     ]
    }
   ],
   "source": [
    "# pop(self, index=-1, /)\n",
    "list1.pop(0)\n",
    "print(list1)\n",
    "list1.pop()\n",
    "print(list1)"
   ]
  },
  {
   "cell_type": "code",
   "execution_count": 20,
   "metadata": {},
   "outputs": [
    {
     "name": "stdout",
     "output_type": "stream",
     "text": [
      "[8, 6, 7, 8]\n",
      "[6, 7, 8]\n"
     ]
    }
   ],
   "source": [
    "# remove(self, value, /)\n",
    "list1 = [8, 6, 7, 8]\n",
    "print(list1)\n",
    "list1.remove(8)\n",
    "print(list1)"
   ]
  },
  {
   "cell_type": "code",
   "execution_count": 24,
   "metadata": {},
   "outputs": [
    {
     "name": "stdout",
     "output_type": "stream",
     "text": [
      "[8, 6, 7, 4]\n",
      "[4, 7, 6, 8]\n"
     ]
    }
   ],
   "source": [
    "# reverse(self, /)\n",
    "list1 = [8, 6, 7, 4]\n",
    "print(list1)\n",
    "list1.reverse()\n",
    "print(list1)"
   ]
  },
  {
   "cell_type": "code",
   "execution_count": 30,
   "metadata": {},
   "outputs": [
    {
     "name": "stdout",
     "output_type": "stream",
     "text": [
      "[8, 6, 7, 4]\n",
      "[4, 6, 7, 8]\n"
     ]
    }
   ],
   "source": [
    "# sort(self, /, *, key=None, reverse=False)\n",
    "list1 = [8, 6, 7, 4]\n",
    "print(list1)\n",
    "# list1.sort()\n",
    "list1.sort(reverse=False)\n",
    "print(list1)"
   ]
  },
  {
   "cell_type": "code",
   "execution_count": 31,
   "metadata": {},
   "outputs": [],
   "source": [
    "# help(list)"
   ]
  },
  {
   "cell_type": "code",
   "execution_count": 1,
   "metadata": {},
   "outputs": [],
   "source": [
    "# Task\n",
    "    # Generate an integer number randomly.\n",
    "    # Create a list of N random integer numbers.\n",
    "    # Count a specific number in list.\n",
    "    # Find indexes of specific number in list. \n",
    "    # Find and replace specific number by another number.\n",
    "    # Calculate sum of all items # HW\n",
    "    # Calculate min item # HW\n",
    "    # Calculate max item # HW"
   ]
  },
  {
   "cell_type": "code",
   "execution_count": 3,
   "metadata": {},
   "outputs": [
    {
     "name": "stdout",
     "output_type": "stream",
     "text": [
      "89\n",
      "4636\n"
     ]
    }
   ],
   "source": [
    "# Generate an integer number randomly.\n",
    "\n",
    "import random  # module (py file)\n",
    "# randint(a, b)\n",
    "# Return random integer in range [a, b], including both end points.\n",
    "\n",
    "rn = random.randint(0,100)\n",
    "print(rn)\n",
    "\n",
    "rn = random.random()\n",
    "print(int(rn*10000))"
   ]
  },
  {
   "cell_type": "code",
   "execution_count": 13,
   "metadata": {},
   "outputs": [
    {
     "name": "stdout",
     "output_type": "stream",
     "text": [
      "[9, 2, 6, 9, 9, 10, 7, 4, 8, 7]\n"
     ]
    }
   ],
   "source": [
    "# Create a list of 100 random integer numbers.\n",
    "list1 = []\n",
    "# print(type(list1))\n",
    "# print(len(list1))\n",
    "# print(list1)\n",
    "# print()\n",
    "MAX_NUMS = 10\n",
    "START = 1\n",
    "STOP  = 10\n",
    "for i in range(0, MAX_NUMS):\n",
    "    list1.append(random.randint(START, STOP))\n",
    "print(list1)\n",
    "# print(len(list1))"
   ]
  },
  {
   "cell_type": "code",
   "execution_count": 14,
   "metadata": {},
   "outputs": [
    {
     "name": "stdout",
     "output_type": "stream",
     "text": [
      "Enter a number to search : 7\n",
      "7 found  2 time(s)\n",
      "\n",
      "[9, 2, 6, 9, 9, 10, 7, 4, 8, 7]\n"
     ]
    }
   ],
   "source": [
    "# Count a specific number in list.\n",
    "n = int(input(\"Enter a number to search : \"))\n",
    "result = list1.count(n)\n",
    "if result>0:\n",
    "    print(n, \"found \", result , \"time(s)\")\n",
    "else:\n",
    "    print(n, \"not found\")\n",
    "print()\n",
    "print(list1)    "
   ]
  },
  {
   "cell_type": "code",
   "execution_count": 7,
   "metadata": {},
   "outputs": [
    {
     "name": "stdout",
     "output_type": "stream",
     "text": [
      "Enter a number to search : 10\n",
      "8\n"
     ]
    }
   ],
   "source": [
    "# Find indexes of specific number in list.-v1\n",
    "import sys\n",
    "n = int(input(\"Enter a number to search : \"))\n",
    "try:\n",
    "    result = list1.index(n, 0, len(list1))\n",
    "except:\n",
    "    print(n, \"not found\")\n",
    "    result = -1    \n",
    "print(result)"
   ]
  },
  {
   "cell_type": "code",
   "execution_count": 15,
   "metadata": {},
   "outputs": [
    {
     "name": "stdout",
     "output_type": "stream",
     "text": [
      "[9, 2, 6, 9, 9, 10, 7, 4, 8, 7]\n",
      "Enter no to search : 7\n",
      "[6, 9]\n"
     ]
    }
   ],
   "source": [
    "# Find indexes of specific number in list.-v2\n",
    "def search_in_list(list1, num):\n",
    "    result = []\n",
    "    counter = 0;\n",
    "    for n in list1:        \n",
    "        if n==num:\n",
    "            result.append(counter)\n",
    "        counter+=1\n",
    "    return result\n",
    "\n",
    "print(list1)\n",
    "n = int(input(\"Enter no to search : \"))\n",
    "result=search_in_list(list1, n)\n",
    "print(result)\n"
   ]
  },
  {
   "cell_type": "code",
   "execution_count": 18,
   "metadata": {},
   "outputs": [
    {
     "name": "stdout",
     "output_type": "stream",
     "text": [
      "[9, 2, 6, 9, 9, 10, 7, 4, 8, 7]\n",
      "Enter number to find : 9\n",
      "Enter number to replace with : 65\n",
      "[65, 2, 6, 65, 65, 10, 7, 4, 8, 7]\n"
     ]
    }
   ],
   "source": [
    "# Find and replace specific number by another number.\n",
    "def find_replace(list1, n1, n2):\n",
    "    counter = 0\n",
    "    for num in list1:\n",
    "        if num == n1:\n",
    "            list1[counter] = n2\n",
    "        counter+=1\n",
    "    return list1\n",
    "\n",
    "print(list1)\n",
    "n1 = int(input(\"Enter number to find : \"))\n",
    "n2 = int(input(\"Enter number to replace with : \"))\n",
    "list2 = find_replace(list1, n1, n2)\n",
    "print(list2)"
   ]
  },
  {
   "cell_type": "code",
   "execution_count": null,
   "metadata": {},
   "outputs": [],
   "source": []
  },
  {
   "cell_type": "code",
   "execution_count": null,
   "metadata": {},
   "outputs": [],
   "source": []
  },
  {
   "cell_type": "code",
   "execution_count": null,
   "metadata": {},
   "outputs": [],
   "source": []
  },
  {
   "cell_type": "code",
   "execution_count": 69,
   "metadata": {
    "scrolled": true
   },
   "outputs": [
    {
     "name": "stdout",
     "output_type": "stream",
     "text": [
      "[86, 49, 92, 65, 38, 33, 61, 66, 60, 59, 15, 50, 49, 13, 7, 59, 79, 99, 33, 85, 9, 23, 66, 19, 38, 95, 24, 91, 75, 69, 39, 25, 1, 100, 52, 93, 90, 43, 31, 64, 36, 8, 30, 15, 19, 67, 46, 2, 74, 64, 50, 100, 82, 73, 84, 51, 53, 47, 56, 90, 88, 88, 6, 43, 3, 24, 46, 3, 61, 37, 90, 10, 20, 29, 92, 69, 99, 22, 48, 36, 45, 87, 29, 84, 82, 65, 21, 74, 48, 57, 84, 54, 91, 58, 85, 17, 67, 40, 33, 12, 64]\n"
     ]
    }
   ],
   "source": [
    "# by Rupak Shrestha\n",
    "list2 = []\n",
    "count = 0\n",
    "while(count<=100):\n",
    "    num = random.randint(1,100)\n",
    "    list2.insert(count,num)\n",
    "    count += 1\n",
    "print(list2)"
   ]
  },
  {
   "cell_type": "code",
   "execution_count": 19,
   "metadata": {},
   "outputs": [],
   "source": [
    "# [17, 95]"
   ]
  },
  {
   "cell_type": "markdown",
   "metadata": {},
   "source": [
    "### 4. Tuple - tuple ()"
   ]
  },
  {
   "cell_type": "code",
   "execution_count": 37,
   "metadata": {},
   "outputs": [
    {
     "name": "stdout",
     "output_type": "stream",
     "text": [
      "<class 'tuple'>\n",
      "([8, 6, 3, 2, 1], array('i', [7, 3, 4, 5, 6]))\n"
     ]
    }
   ],
   "source": [
    "# Declare\n",
    "from array import array\n",
    "tup1 = ()\n",
    "tup2 = tuple()\n",
    "tup3 = (1, 2, 3, 4, 5)\n",
    "tup4 = (1, 2.25, 3+4J, True, False, \"KTM\")\n",
    "\n",
    "array1 = array('i', [7,3,4,5,6])\n",
    "tup5 = tuple(array1)\n",
    "\n",
    "list1 = [8, 6, 3, 2, 1]\n",
    "tup6 = tuple(list1)\n",
    "\n",
    "tup7 = 9, 5, 6, 7, 3\n",
    "\n",
    "tup8 = \"Kathmandu\",\"Bhaktapur\",\"Lalitpur\"\n",
    "\n",
    "tup9 = (list1, array1)\n",
    "\n",
    "print(type(tup9))\n",
    "print(tup9)"
   ]
  },
  {
   "cell_type": "code",
   "execution_count": 38,
   "metadata": {},
   "outputs": [],
   "source": [
    "# Step-1\n",
    "# Create an array of items\n",
    "# Convert an array to tuple\n",
    "# Place an array in tuple\n",
    "\n",
    "# Step-2\n",
    "# Create a list of items\n",
    "# Conver a list to tuple\n",
    "# Place a list in tuple"
   ]
  },
  {
   "cell_type": "code",
   "execution_count": 44,
   "metadata": {},
   "outputs": [
    {
     "name": "stdout",
     "output_type": "stream",
     "text": [
      "(2, 4, 5, 1, 2)\n",
      "(array('i', [2, 4, 5, 1, 2]),)\n",
      "(5, 6, 3, 2, 6)\n",
      "([5, 6, 3, 2, 6],)\n"
     ]
    }
   ],
   "source": [
    "# Step-1\n",
    "# Create an array of items\n",
    "from array import array\n",
    "array1 = array('i', [2, 4, 5, 1, 2])\n",
    "\n",
    "# Convert an array to tuple\n",
    "tup1 = tuple(array1)\n",
    "\n",
    "# Place an array in tuple\n",
    "tup2 = (array1,)\n",
    "\n",
    "print(tup1)\n",
    "print(tup2)\n",
    "\n",
    "# Step-2\n",
    "# Create a list of items\n",
    "list1 = [5,6,3,2,6]\n",
    "\n",
    "# Conver a list to tuple\n",
    "tup3 = tuple(list1)\n",
    "\n",
    "# Place a list in tuple\n",
    "tup4 = (list1,)\n",
    "\n",
    "print(tup3)\n",
    "print(tup4)"
   ]
  },
  {
   "cell_type": "code",
   "execution_count": 3,
   "metadata": {},
   "outputs": [],
   "source": [
    "def create_list(min_no, max_no, count):\n",
    "    import random\n",
    "    list1 = []\n",
    "    for i in range(count):\n",
    "        tmp = random.randint(min_no, max_no)\n",
    "        list1.append(tmp)\n",
    "    return list1"
   ]
  },
  {
   "cell_type": "code",
   "execution_count": 52,
   "metadata": {},
   "outputs": [
    {
     "name": "stdout",
     "output_type": "stream",
     "text": [
      "[55, 78, 21, 54, 75, 7, 6, 66, 97, 51, 63, 40, 77, 47, 9, 44, 83, 55, 41, 62, 23, 1, 99, 40, 25, 32, 70, 76, 99, 73, 36, 10, 60, 7, 5, 66, 83, 92, 65, 74, 90, 18, 97, 79, 82, 17, 73, 65, 75, 90, 38, 76, 2, 65, 28, 89, 91, 67, 36, 97, 27, 99, 54, 25, 57, 69, 55, 46, 15, 13, 75, 98, 32, 48, 75, 96, 56, 8, 13, 76, 59, 55, 18, 47, 3, 38, 30, 74, 5, 78, 42, 50, 10, 20, 19, 82, 68, 85, 45, 87]\n",
      "\n",
      "(55, 78, 21, 54, 75, 7, 6, 66, 97, 51, 63, 40, 77, 47, 9, 44, 83, 55, 41, 62, 23, 1, 99, 40, 25, 32, 70, 76, 99, 73, 36, 10, 60, 7, 5, 66, 83, 92, 65, 74, 90, 18, 97, 79, 82, 17, 73, 65, 75, 90, 38, 76, 2, 65, 28, 89, 91, 67, 36, 97, 27, 99, 54, 25, 57, 69, 55, 46, 15, 13, 75, 98, 32, 48, 75, 96, 56, 8, 13, 76, 59, 55, 18, 47, 3, 38, 30, 74, 5, 78, 42, 50, 10, 20, 19, 82, 68, 85, 45, 87)\n",
      "\n",
      "([55, 78, 21, 54, 75, 7, 6, 66, 97, 51, 63, 40, 77, 47, 9, 44, 83, 55, 41, 62, 23, 1, 99, 40, 25, 32, 70, 76, 99, 73, 36, 10, 60, 7, 5, 66, 83, 92, 65, 74, 90, 18, 97, 79, 82, 17, 73, 65, 75, 90, 38, 76, 2, 65, 28, 89, 91, 67, 36, 97, 27, 99, 54, 25, 57, 69, 55, 46, 15, 13, 75, 98, 32, 48, 75, 96, 56, 8, 13, 76, 59, 55, 18, 47, 3, 38, 30, 74, 5, 78, 42, 50, 10, 20, 19, 82, 68, 85, 45, 87],)\n"
     ]
    }
   ],
   "source": [
    "list1 = create_list(1, 100, 100)\n",
    "print(list1)\n",
    "\n",
    "# list to tuple\n",
    "tup5 = tuple(list1)\n",
    "print()\n",
    "print(tup5)\n",
    "print()\n",
    "# list inside of tuple\n",
    "#tup6 = (list1,)\n",
    "tup6 = (list1,)\n",
    "print(tup6)"
   ]
  },
  {
   "cell_type": "code",
   "execution_count": 91,
   "metadata": {},
   "outputs": [
    {
     "name": "stdout",
     "output_type": "stream",
     "text": [
      "55\n",
      "87\n",
      "87\n",
      "55\n"
     ]
    }
   ],
   "source": [
    "# Indexing\n",
    "print(tup5[0])\n",
    "print(tup5[99])\n",
    "# print(tup5[100]) # IndexError: tuple index out of range\n",
    "print(tup5[-1])\n",
    "print(tup5[-100])"
   ]
  },
  {
   "cell_type": "code",
   "execution_count": 99,
   "metadata": {},
   "outputs": [
    {
     "name": "stdout",
     "output_type": "stream",
     "text": [
      "(55, 78, 21, 54, 75, 7, 6, 66, 97, 51, 63, 40, 77, 47, 9, 44, 83, 55, 41, 62, 23, 1, 99, 40, 25, 32, 70, 76, 99, 73, 36, 10, 60, 7, 5, 66, 83, 92, 65, 74, 90, 18, 97, 79, 82, 17, 73, 65, 75, 90, 38, 76, 2, 65, 28, 89, 91, 67, 36, 97, 27, 99, 54, 25, 57, 69, 55, 46, 15, 13, 75, 98, 32, 48, 75, 96, 56, 8, 13, 76, 59, 55, 18, 47, 3, 38, 30, 74, 5, 78, 42, 50, 10, 20, 19, 82, 68, 85, 45, 87)\n",
      "\n",
      "(55, 78, 21, 54, 75, 7, 6, 66, 97, 51, 63, 40, 77, 47, 9, 44, 83, 55, 41, 62, 23, 1, 99, 40, 25, 32, 70, 76, 99, 73, 36, 10, 60, 7, 5, 66, 83, 92, 65, 74, 90, 18, 97, 79, 82, 17, 73, 65, 75, 90, 38, 76, 2, 65, 28, 89, 91, 67, 36, 97, 27, 99, 54, 25, 57, 69, 55, 46, 15, 13, 75, 98, 32, 48, 75, 96, 56, 8, 13, 76, 59, 55, 18, 47, 3, 38, 30, 74, 5, 78, 42, 50, 10, 20, 19, 82, 68, 85, 45, 87)\n",
      "\n",
      "(63, 40, 77, 47, 9, 44, 83, 55, 41, 62, 23, 1, 99, 40, 25, 32, 70, 76, 99, 73, 36, 10, 60, 7, 5, 66, 83, 92, 65, 74, 90, 18, 97, 79, 82, 17, 73, 65, 75, 90, 38, 76, 2, 65, 28, 89, 91, 67, 36, 97, 27, 99, 54, 25, 57, 69, 55, 46, 15, 13, 75, 98, 32, 48, 75, 96, 56, 8, 13, 76, 59, 55, 18, 47, 3, 38, 30, 74, 5, 78, 42, 50, 10, 20, 19, 82, 68, 85, 45, 87)\n",
      "\n",
      "(55, 78, 21, 54, 75, 7, 6, 66, 97, 51, 63, 40, 77, 47, 9, 44, 83, 55, 41, 62, 23, 1, 99, 40, 25, 32, 70, 76, 99, 73, 36, 10, 60, 7, 5, 66, 83, 92, 65, 74, 90, 18, 97, 79, 82, 17, 73, 65, 75, 90, 38, 76, 2, 65, 28, 89, 91, 67, 36, 97, 27, 99, 54, 25, 57, 69, 55, 46, 15, 13, 75, 98, 32, 48, 75, 96, 56, 8, 13, 76, 59, 55, 18, 47, 3, 38, 30, 74, 5, 78, 42, 50, 10, 20, 19, 82, 68, 85, 45, 87)\n",
      "\n",
      "(55, 21, 75, 6, 97, 63, 77, 9, 83, 41, 23, 99, 25, 70, 99, 36, 60, 5, 83, 65, 90, 97, 82, 73, 75, 38, 2, 28, 91, 36, 27, 54, 57, 55, 15, 75, 32, 75, 56, 13, 59, 18, 3, 30, 5, 42, 10, 19, 68, 45)\n",
      "\n",
      "(87, 45, 85, 68, 82, 19, 20, 10, 50, 42, 78, 5, 74, 30, 38, 3, 47, 18, 55, 59, 76, 13, 8, 56, 96, 75, 48, 32, 98, 75, 13, 15, 46, 55, 69, 57, 25, 54, 99, 27, 97, 36, 67, 91, 89, 28, 65, 2, 76, 38, 90, 75, 65, 73, 17, 82, 79, 97, 18, 90, 74, 65, 92, 83, 66, 5, 7, 60, 10, 36, 73, 99, 76, 70, 32, 25, 40, 99, 1, 23, 62, 41, 55, 83, 44, 9, 47, 77, 40, 63, 51, 97, 66, 6, 7, 75, 54, 21, 78, 55)\n"
     ]
    }
   ],
   "source": [
    "# Slicing\n",
    "print(tup5[0:100])\n",
    "print()\n",
    "print(tup5[:])\n",
    "print()\n",
    "print(tup5[10:])\n",
    "print()\n",
    "print(tup5[:100])\n",
    "print()\n",
    "print(tup5[::2])\n",
    "print()\n",
    "print(tup5[::-1])"
   ]
  },
  {
   "cell_type": "code",
   "execution_count": 58,
   "metadata": {},
   "outputs": [
    {
     "name": "stdout",
     "output_type": "stream",
     "text": [
      "(55, 78, 21, 54, 75, 7, 6, 66, 97, 51, 63, 40, 77, 47, 9, 44, 83, 55, 41, 62, 23, 1, 99, 40, 25, 32, 70, 76, 99, 73, 36, 10, 60, 7, 5, 66, 83, 92, 65, 74, 90, 18, 97, 79, 82, 17, 73, 65, 75, 90, 38, 76, 2, 65, 28, 89, 91, 67, 36, 97, 27, 99, 54, 25, 57, 69, 55, 46, 15, 13, 75, 98, 32, 48, 75, 96, 56, 8, 13, 76, 59, 55, 18, 47, 3, 38, 30, 74, 5, 78, 42, 50, 10, 20, 19, 82, 68, 85, 45, 87)\n",
      "times :  2\n"
     ]
    }
   ],
   "source": [
    "# count(self, value, /)\n",
    "print(tup5)\n",
    "result = tup5.count(7)\n",
    "print(\"times : \", result)"
   ]
  },
  {
   "cell_type": "code",
   "execution_count": 62,
   "metadata": {},
   "outputs": [
    {
     "name": "stdout",
     "output_type": "stream",
     "text": [
      "2\n",
      "result1 34\n",
      "result1 88\n"
     ]
    }
   ],
   "source": [
    "# index(self, value, start=0, stop=9223372036854775807, /)\n",
    "n = 5\n",
    "count_result = tup5.count(n)\n",
    "print(count_result)\n",
    "result = tup5.index(n, 0, len(tup5))\n",
    "print(\"result1\", result)\n",
    "result = tup5.index(n, result+1, len(tup5))\n",
    "print(\"result1\", result)"
   ]
  },
  {
   "cell_type": "code",
   "execution_count": 87,
   "metadata": {},
   "outputs": [],
   "source": [
    "def index_count(list1, num):\n",
    "    result=[]\n",
    "    count_result = list1.count(num)\n",
    "    result_index = -1\n",
    "    for i in range(count_result):\n",
    "        result_index = list1.index(num, result_index+1, len(list1))\n",
    "        result.append(result_index)\n",
    "    return result"
   ]
  },
  {
   "cell_type": "code",
   "execution_count": 86,
   "metadata": {},
   "outputs": [
    {
     "name": "stdout",
     "output_type": "stream",
     "text": [
      "(55, 78, 21, 54, 75, 7, 6, 66, 97, 51, 63, 40, 77, 47, 9, 44, 83, 55, 41, 62, 23, 1, 99, 40, 25, 32, 70, 76, 99, 73, 36, 10, 60, 7, 5, 66, 83, 92, 65, 74, 90, 18, 97, 79, 82, 17, 73, 65, 75, 90, 38, 76, 2, 65, 28, 89, 91, 67, 36, 97, 27, 99, 54, 25, 57, 69, 55, 46, 15, 13, 75, 98, 32, 48, 75, 96, 56, 8, 13, 76, 59, 55, 18, 47, 3, 38, 30, 74, 5, 78, 42, 50, 10, 20, 19, 82, 68, 85, 45, 87)\n",
      "\n",
      "[31, 92]\n"
     ]
    }
   ],
   "source": [
    "print(tup5)\n",
    "print()\n",
    "res = index_count(tup5, 10)\n",
    "print(res)"
   ]
  },
  {
   "cell_type": "code",
   "execution_count": 67,
   "metadata": {},
   "outputs": [],
   "source": [
    "#help(tuple)"
   ]
  },
  {
   "cell_type": "markdown",
   "metadata": {},
   "source": [
    "### How to Update an item of tuple?"
   ]
  },
  {
   "cell_type": "markdown",
   "metadata": {},
   "source": [
    "### 5. Set - set {}"
   ]
  },
  {
   "cell_type": "code",
   "execution_count": 5,
   "metadata": {},
   "outputs": [
    {
     "name": "stdout",
     "output_type": "stream",
     "text": [
      "\n",
      "[1, 3, 4, 5, 6, 5, 2, 1, 7, 2, 5, 6, 10, 8, 5, 5, 5, 7, 5, 3, 10, 5, 6, 7, 6, 10, 2, 3, 3, 9, 8, 9, 10, 6, 4, 4, 7, 4, 10, 1, 9, 10, 5, 1, 2, 8, 3, 5, 9, 3, 4, 1, 9, 2, 10, 7, 10, 10, 7, 1, 5, 7, 3, 6, 4, 2, 6, 5, 7, 8, 2, 5, 8, 1, 3, 1, 8, 10, 9, 7, 4, 1, 6, 5, 10, 2, 10, 9, 5, 7, 9, 6, 1, 1, 1, 10, 9, 1, 6, 3]\n",
      "\n",
      "{1, 2, 3, 4, 5, 6, 7, 8, 9, 10}\n",
      "10\n",
      "1\n",
      "10\n",
      "55\n",
      "<class 'set'>\n"
     ]
    }
   ],
   "source": [
    "# Decalre\n",
    "# set1 = {} # dict\n",
    "set1 = set()\n",
    "\n",
    "set2 = {1, 2, 4, 2, 4, 1, 2, 3, 4, 5, 6}\n",
    "\n",
    "from array import array\n",
    "array1 = array('i',[4,5,6,7,4,2,3,4,5])\n",
    "set3 = set(array1)\n",
    "print()\n",
    "\n",
    "list1 = create_list(1, 10, 100)\n",
    "print(list1)\n",
    "print()\n",
    "set4 = set(list1)\n",
    "print(set4)\n",
    "print(len(set4))\n",
    "print(min(set4))\n",
    "print(max(set4))\n",
    "print(sum(set4))\n",
    "\n",
    "tup1 = (5,5,6,7,8,9,6,3)\n",
    "set5 = set(tup1)\n",
    "print(type(set5))\n",
    "\n"
   ]
  },
  {
   "cell_type": "code",
   "execution_count": 6,
   "metadata": {},
   "outputs": [
    {
     "name": "stdout",
     "output_type": "stream",
     "text": [
      "10\n"
     ]
    }
   ],
   "source": [
    "print(len(set4))"
   ]
  },
  {
   "cell_type": "code",
   "execution_count": 109,
   "metadata": {},
   "outputs": [
    {
     "name": "stdout",
     "output_type": "stream",
     "text": [
      "{1, 2, 3, 4, 5, 6, 7, 8, 9, 10, 13}\n"
     ]
    }
   ],
   "source": [
    "# add value\n",
    "set4.add(13)\n",
    "print(set4)"
   ]
  },
  {
   "cell_type": "code",
   "execution_count": 18,
   "metadata": {},
   "outputs": [
    {
     "name": "stdout",
     "output_type": "stream",
     "text": [
      "1858559600000\n",
      "1858536585696\n",
      "\n",
      "{1, 2, 3, 4, 5, 6, 7, 8, 9, 10}\n",
      "set()\n",
      "\n",
      "{1, 2, 3, 4, 5, 6, 7, 8, 9, 10}\n"
     ]
    }
   ],
   "source": [
    "#set5 = set4  # Copy by References\n",
    "set5 = set4.copy() # Copy by value\n",
    "print(id(set5))\n",
    "print(id(set4))\n",
    "set5.clear()\n",
    "print()\n",
    "print(set4)\n",
    "print(set5)\n",
    "\n",
    "set5 = set4.copy()\n",
    "print()\n",
    "print(set5)"
   ]
  },
  {
   "cell_type": "code",
   "execution_count": 13,
   "metadata": {},
   "outputs": [
    {
     "name": "stdout",
     "output_type": "stream",
     "text": [
      "\n",
      "{1, 2, 3, 5, 6}\n",
      "{1, 5, 6, 7, 9}\n",
      "{9, 7}\n"
     ]
    }
   ],
   "source": [
    "# difference(...)\n",
    "set1 = {5, 3, 2, 1, 6}\n",
    "set2 = {6, 5, 9, 7, 1}\n",
    "set3 = set2.difference(set1)\n",
    "print()\n",
    "print(set1)\n",
    "print(set2)\n",
    "print(set3)"
   ]
  },
  {
   "cell_type": "code",
   "execution_count": 17,
   "metadata": {},
   "outputs": [
    {
     "name": "stdout",
     "output_type": "stream",
     "text": [
      "{9, 7}\n"
     ]
    }
   ],
   "source": [
    "# difference_update(...)\n",
    "set1 = {5, 3, 2, 1, 6}\n",
    "set2 = {6, 5, 9, 7, 1}\n",
    "print(set2.difference(set1))\n"
   ]
  },
  {
   "cell_type": "code",
   "execution_count": 20,
   "metadata": {},
   "outputs": [
    {
     "name": "stdout",
     "output_type": "stream",
     "text": [
      "\n",
      "{1, 2, 3, 4, 5, 6, 7, 8, 9, 10}\n",
      "{2, 3, 4, 5, 6, 7, 8, 9, 10}\n"
     ]
    }
   ],
   "source": [
    "# pop()\n",
    "print()\n",
    "print(set5)\n",
    "set5.pop()\n",
    "print(set5)"
   ]
  },
  {
   "cell_type": "code",
   "execution_count": 24,
   "metadata": {},
   "outputs": [
    {
     "name": "stdout",
     "output_type": "stream",
     "text": [
      "\n",
      "{2, 3, 4, 5, 6, 8, 9, 10}\n",
      "Error 11\n"
     ]
    }
   ],
   "source": [
    "# remove()\n",
    "import sys\n",
    "try:\n",
    "    print()\n",
    "    print(set5)\n",
    "    set5.remove(11)\n",
    "    print(set5)\n",
    "except:\n",
    "    print(\"Error\", sys.exc_info()[1])"
   ]
  },
  {
   "cell_type": "code",
   "execution_count": 26,
   "metadata": {},
   "outputs": [
    {
     "name": "stdout",
     "output_type": "stream",
     "text": [
      "{1, 2, 3, 4, 5, 6, 9}\n"
     ]
    }
   ],
   "source": [
    "# union\n",
    "set1 = {4, 3, 2, 1}\n",
    "set2 = {5,6,9, 3, 4}\n",
    "set3 = set1.union(set2)\n",
    "print(set3)"
   ]
  },
  {
   "cell_type": "code",
   "execution_count": null,
   "metadata": {},
   "outputs": [],
   "source": [
    "#help(set)"
   ]
  },
  {
   "cell_type": "markdown",
   "metadata": {},
   "source": [
    "## Dictionary"
   ]
  },
  {
   "cell_type": "code",
   "execution_count": 27,
   "metadata": {},
   "outputs": [],
   "source": [
    "# Website <- User (Browser) - Dictionary | JSON\n",
    "# Website -> User (Browser) - Dictionary | JSON\n",
    "\n",
    "# Web API - Message Format"
   ]
  },
  {
   "cell_type": "code",
   "execution_count": 93,
   "metadata": {},
   "outputs": [
    {
     "name": "stdout",
     "output_type": "stream",
     "text": [
      "{'id': 1, 'name': 'Rajan', 'address': 'Chitwan'}\n",
      "{'id': 2, 'name': 'Kiran', 'address': 'Hetauda'}\n",
      "\n",
      "[{'id': 1, 'name': 'Rajan', 'address': 'Chitwan'}, {'id': 2, 'name': 'Kiran', 'address': 'Hetauda'}]\n",
      "\n",
      "{'id': 1, 'name': 'Rajan', 'address': 'Chitwan'}\n",
      "1\n",
      "Rajan\n",
      "Chitwan\n",
      "\n",
      "{'id': 2, 'name': 'Kiran', 'address': 'Hetauda'}\n",
      "\n"
     ]
    }
   ],
   "source": [
    "# Declare\n",
    "dict1 = {}\n",
    "\n",
    "dict2 = {'id':1, 'name':'Rajan', 'address':'Chitwan'}\n",
    "dict3 = {'id':2, 'name':'Kiran', 'address':'Hetauda'}\n",
    "print(dict2)\n",
    "print(dict3)\n",
    "# Keys\n",
    "# id\n",
    "# name\n",
    "# address\n",
    "\n",
    "# Values\n",
    "# id # 1\n",
    "# name # Rajan\n",
    "# address # Chitwan\n",
    "print()\n",
    "list1 = [dict2, dict3]\n",
    "print(list1)\n",
    "print()\n",
    "\n",
    "print(dict2)\n",
    "print(dict2['id'])\n",
    "print(dict2['name'])\n",
    "print(dict2['address'])\n",
    "print()\n",
    "print(dict3)\n",
    "print()"
   ]
  },
  {
   "cell_type": "code",
   "execution_count": 62,
   "metadata": {},
   "outputs": [
    {
     "name": "stdout",
     "output_type": "stream",
     "text": [
      "[9, 2, 3, 1, 4, 6]\n"
     ]
    }
   ],
   "source": [
    "print(list1)"
   ]
  },
  {
   "cell_type": "code",
   "execution_count": 66,
   "metadata": {},
   "outputs": [
    {
     "name": "stdout",
     "output_type": "stream",
     "text": [
      "{'id': 1, 'name': 'Rajan', 'address': 'Chitwan'}\n",
      "{'id': 2, 'name': 'Kiran', 'address': 'Hetauda'}\n"
     ]
    }
   ],
   "source": [
    "for var1 in list1:\n",
    "    print(var1)\n",
    "    \n",
    "    "
   ]
  },
  {
   "cell_type": "code",
   "execution_count": 68,
   "metadata": {},
   "outputs": [
    {
     "name": "stdout",
     "output_type": "stream",
     "text": [
      "id 1\n",
      "name Rajan\n",
      "address Chitwan\n"
     ]
    }
   ],
   "source": [
    "for key, value in dict2.items():\n",
    "    print(key, value)\n",
    "    "
   ]
  },
  {
   "cell_type": "code",
   "execution_count": 83,
   "metadata": {},
   "outputs": [
    {
     "name": "stdout",
     "output_type": "stream",
     "text": [
      "<class 'dict'>\n",
      "3\n",
      "1\n",
      "Raj Rai\n",
      "KTM\n",
      "dict_items([('id', 1), ('full_name', 'Raj Rai'), ('contact_address', 'KTM')])\n",
      "dict_keys(['id', 'full_name', 'contact_address'])\n",
      "dict_values([1, 'Raj Rai', 'KTM'])\n"
     ]
    }
   ],
   "source": [
    "# Details\n",
    "person={}\n",
    "person['id']=1\n",
    "person['full_name']='Raj Rai'\n",
    "person['contact_address']='KTM'\n",
    "\n",
    "print(type(person))\n",
    "print(len(person))\n",
    "# print(min(person))\n",
    "# print(max(person))\n",
    "# print(sum(person))\n",
    "\n",
    "print(person.get('id'))\n",
    "print(person.get('full_name'))\n",
    "print(person['contact_address'])\n",
    "\n",
    "print(person.items())\n",
    "print(person.keys())\n",
    "print(person.values())\n",
    "#print(person.clear())"
   ]
  },
  {
   "cell_type": "code",
   "execution_count": 85,
   "metadata": {},
   "outputs": [
    {
     "name": "stdout",
     "output_type": "stream",
     "text": [
      "id 1\n",
      "full_name Raj Rai\n",
      "contact_address KTM\n"
     ]
    }
   ],
   "source": [
    "for key, value in person.items():\n",
    "    print(key, value)"
   ]
  },
  {
   "cell_type": "code",
   "execution_count": 86,
   "metadata": {},
   "outputs": [],
   "source": [
    "countries = {'France':'Paris','Spain':'Madrid','United Kingdom':'London',\n",
    "            'India':'New Delhi','United States':'Washington DC','Italy':'Rome',\n",
    "            'Denmark':'Copenhagen','Germany':'Berlin','Greece':'Athens',\n",
    "            'Bulgaria':'Sofia','Ireland':'Dublin','Mexico':'Mexico City'}"
   ]
  },
  {
   "cell_type": "code",
   "execution_count": 92,
   "metadata": {},
   "outputs": [
    {
     "name": "stdout",
     "output_type": "stream",
     "text": [
      "{'France': 'Paris', 'Spain': 'Madrid', 'United Kingdom': 'London', 'India': 'New Delhi', 'United States': 'Washington DC', 'Italy': 'Rome', 'Denmark': 'Copenhagen', 'Germany': 'Berlin', 'Greece': 'Athens', 'Bulgaria': 'Sofia', 'Ireland': 'Dublin', 'Mexico': 'Mexico City'}\n",
      "\n",
      "dict_items([('France', 'Paris'), ('Spain', 'Madrid'), ('United Kingdom', 'London'), ('India', 'New Delhi'), ('United States', 'Washington DC'), ('Italy', 'Rome'), ('Denmark', 'Copenhagen'), ('Germany', 'Berlin'), ('Greece', 'Athens'), ('Bulgaria', 'Sofia'), ('Ireland', 'Dublin'), ('Mexico', 'Mexico City')])\n",
      "\n",
      "dict_keys(['France', 'Spain', 'United Kingdom', 'India', 'United States', 'Italy', 'Denmark', 'Germany', 'Greece', 'Bulgaria', 'Ireland', 'Mexico'])\n",
      "\n",
      "dict_values(['Paris', 'Madrid', 'London', 'New Delhi', 'Washington DC', 'Rome', 'Copenhagen', 'Berlin', 'Athens', 'Sofia', 'Dublin', 'Mexico City'])\n",
      "\n",
      "France Paris\n",
      "Spain Madrid\n",
      "United Kingdom London\n",
      "India New Delhi\n",
      "United States Washington DC\n",
      "Italy Rome\n",
      "Denmark Copenhagen\n",
      "Germany Berlin\n",
      "Greece Athens\n",
      "Bulgaria Sofia\n",
      "Ireland Dublin\n",
      "Mexico Mexico City\n"
     ]
    }
   ],
   "source": [
    "print(countries)\n",
    "print()\n",
    "print(countries.items())\n",
    "print()\n",
    "print(countries.keys())\n",
    "print()\n",
    "print(countries.values())\n",
    "print()\n",
    "\n",
    "for key, value in countries.items():\n",
    "    print(key, value)"
   ]
  },
  {
   "cell_type": "code",
   "execution_count": 100,
   "metadata": {},
   "outputs": [],
   "source": [
    "dict2 = {'id':1, 'name':'Rajan', 'address':'Chitwan'}\n",
    "dict3 = {'id':2, 'name':'Kiran', 'address':'Hetauda'}\n",
    "dict4 = {'person1': dict2, 'person2': dict3}"
   ]
  },
  {
   "cell_type": "code",
   "execution_count": 101,
   "metadata": {},
   "outputs": [
    {
     "name": "stdout",
     "output_type": "stream",
     "text": [
      "{'person1': {'id': 1, 'name': 'Rajan', 'address': 'Chitwan'}, 'person2': {'id': 2, 'name': 'Kiran', 'address': 'Hetauda'}}\n"
     ]
    }
   ],
   "source": [
    "print(dict4)"
   ]
  },
  {
   "cell_type": "code",
   "execution_count": 106,
   "metadata": {},
   "outputs": [
    {
     "name": "stdout",
     "output_type": "stream",
     "text": [
      "('person1', {'id': 1, 'name': 'Rajan', 'address': 'Chitwan'})\n",
      "('person2', {'id': 2, 'name': 'Kiran', 'address': 'Hetauda'})\n",
      "id 1\n",
      "name Rajan\n",
      "address Chitwan\n",
      "id 2\n",
      "name Kiran\n",
      "address Hetauda\n"
     ]
    }
   ],
   "source": [
    "for item in dict4.items():\n",
    "    print(item)\n",
    "\n",
    "for value in dict4.values():\n",
    "    #print(value)\n",
    "    for key, value in value.items():\n",
    "        print(key, value)"
   ]
  },
  {
   "cell_type": "code",
   "execution_count": 109,
   "metadata": {},
   "outputs": [],
   "source": [
    "countries = {'France':{'Capital':'Paris','Language':'French'},'Spain':{'Capital':'Madrid','Language':'Spanish'},\n",
    "             'United Kingdom':{'Capital':'London','Language':'English'},\n",
    "            'United States':{'Capital':'Washington DC','Language':'English'},\n",
    "            'Italy':{'Capital':'Rome','Language':'Italian'}\n",
    "            }"
   ]
  },
  {
   "cell_type": "code",
   "execution_count": 110,
   "metadata": {},
   "outputs": [
    {
     "name": "stdout",
     "output_type": "stream",
     "text": [
      "{'France': {'Capital': 'Paris', 'Language': 'French'}, 'Spain': {'Capital': 'Madrid', 'Language': 'Spanish'}, 'United Kingdom': {'Capital': 'London', 'Language': 'English'}, 'United States': {'Capital': 'Washington DC', 'Language': 'English'}, 'Italy': {'Capital': 'Rome', 'Language': 'Italian'}}\n"
     ]
    }
   ],
   "source": [
    "print(countries)"
   ]
  },
  {
   "cell_type": "code",
   "execution_count": 120,
   "metadata": {},
   "outputs": [
    {
     "name": "stdout",
     "output_type": "stream",
     "text": [
      "Country : France\n",
      "\t Capital : Paris\n",
      "\t Language : French\n",
      "Country : Spain\n",
      "\t Capital : Madrid\n",
      "\t Language : Spanish\n",
      "Country : United Kingdom\n",
      "\t Capital : London\n",
      "\t Language : English\n",
      "Country : United States\n",
      "\t Capital : Washington DC\n",
      "\t Language : English\n",
      "Country : Italy\n",
      "\t Capital : Rome\n",
      "\t Language : Italian\n"
     ]
    }
   ],
   "source": [
    "for key, value in countries.items():\n",
    "    print(\"Country :\", key)\n",
    "    for key, value in value.items():\n",
    "        print('\\t', key,\":\", value)\n",
    "    "
   ]
  },
  {
   "cell_type": "code",
   "execution_count": 122,
   "metadata": {},
   "outputs": [],
   "source": [
    "#help(dict)"
   ]
  },
  {
   "cell_type": "code",
   "execution_count": 123,
   "metadata": {},
   "outputs": [],
   "source": [
    "# List, Dictionlay\n",
    "# for loop\n",
    "# if statement\n",
    "# int, float, bool"
   ]
  },
  {
   "cell_type": "code",
   "execution_count": null,
   "metadata": {},
   "outputs": [],
   "source": [
    "# Task-HW\n",
    "    # Read dictionary(value) from keyboard.    \n",
    "    # Write and Read Dictionary(es) into/from File.    "
   ]
  }
 ],
 "metadata": {
  "kernelspec": {
   "display_name": "Python 3",
   "language": "python",
   "name": "python3"
  },
  "language_info": {
   "codemirror_mode": {
    "name": "ipython",
    "version": 3
   },
   "file_extension": ".py",
   "mimetype": "text/x-python",
   "name": "python",
   "nbconvert_exporter": "python",
   "pygments_lexer": "ipython3",
   "version": "3.8.5"
  }
 },
 "nbformat": 4,
 "nbformat_minor": 4
}
