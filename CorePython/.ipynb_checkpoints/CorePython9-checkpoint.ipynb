{
 "cells": [
  {
   "cell_type": "markdown",
   "metadata": {},
   "source": [
    "### File IO (File Handle)\n",
    "Writting and reading on/from file.\n"
   ]
  },
  {
   "cell_type": "code",
   "execution_count": 6,
   "metadata": {},
   "outputs": [],
   "source": [
    "import sys\n",
    "FILE_NAME = 'data1.txt'\n",
    "#FILE_NAME = \"C:\\\\Users\\\\Krishna\\\\Desktop\\\\Training Sep2020\\\\Python\\\\Python2\\\\data1.txt\"\n",
    "#FILE_NAME = \"C:/Users/Krishna/Desktop/Training Sep2020/Python/Python2/data1.txt\"\n"
   ]
  },
  {
   "cell_type": "code",
   "execution_count": 6,
   "metadata": {},
   "outputs": [
    {
     "name": "stdout",
     "output_type": "stream",
     "text": [
      "Create new file successfully\n"
     ]
    }
   ],
   "source": [
    "# Creating new file\n",
    "try:\n",
    "    file = open(FILE_NAME, \"w\") #Write Mode\n",
    "    print(\"Create new file successfully\")\n",
    "except:\n",
    "    print(\"Error1 : \", sys.exc_info()[1])\n",
    "finally:\n",
    "    file.close() # closing file object\n",
    "    del file # delete variable"
   ]
  },
  {
   "cell_type": "code",
   "execution_count": 9,
   "metadata": {},
   "outputs": [
    {
     "name": "stdout",
     "output_type": "stream",
     "text": [
      "Write content on file successfully\n"
     ]
    }
   ],
   "source": [
    "# Write content on file\n",
    "try:\n",
    "    file = open(FILE_NAME, \"w\")\n",
    "    file.write(\"Python is Programming Language\")\n",
    "    print(\"Write content on file successfully\")\n",
    "except:\n",
    "    print(\"Error : \", sys.exc_info()[1])\n",
    "finally:\n",
    "    file.close()\n",
    "    del file"
   ]
  },
  {
   "cell_type": "code",
   "execution_count": null,
   "metadata": {},
   "outputs": [],
   "source": []
  },
  {
   "cell_type": "code",
   "execution_count": 19,
   "metadata": {},
   "outputs": [
    {
     "name": "stdout",
     "output_type": "stream",
     "text": [
      "Write lines successfully\n"
     ]
    }
   ],
   "source": [
    "# Write multiple lines\n",
    "try:\n",
    "    file = open(FILE_NAME, \"w\")\n",
    "    file.writelines(\"Line-1\\n\")\n",
    "    file.writelines(\"Line-2\\n\")\n",
    "    file.writelines(\"Line-3\\n\")\n",
    "    file.writelines(\"Line-4\\n\")\n",
    "    file.writelines(\"Line-5\\n\")\n",
    "    print(\"Write lines successfully\")\n",
    "except:\n",
    "    print(\"Error : \", sys.exc_info()[1])\n",
    "finally:\n",
    "    file.close()"
   ]
  },
  {
   "cell_type": "code",
   "execution_count": 9,
   "metadata": {},
   "outputs": [
    {
     "name": "stdout",
     "output_type": "stream",
     "text": [
      "Append line successfully\n"
     ]
    }
   ],
   "source": [
    "# Append content on file\n",
    "try:\n",
    "    file = open(FILE_NAME, \"a\")\n",
    "    file.write(\"Line-7\")\n",
    "    print(\"Append line successfully\")\n",
    "except:\n",
    "    print(\"Error : \", sys.exc_info()[1])\n",
    "finally:\n",
    "    file.close()"
   ]
  },
  {
   "cell_type": "code",
   "execution_count": 21,
   "metadata": {},
   "outputs": [
    {
     "name": "stdout",
     "output_type": "stream",
     "text": [
      "['Line-1\\n', 'Line-2\\n', 'Line-3\\n', 'Line-4\\n', 'Line-5\\n']\n",
      "Line-1\n",
      "\n",
      "Line-2\n",
      "\n",
      "Line-3\n",
      "\n",
      "Line-4\n",
      "\n",
      "Line-5\n",
      "\n"
     ]
    }
   ],
   "source": [
    "# Read data from file\n",
    "try:\n",
    "    file = open(FILE_NAME, 'r')    \n",
    "    # contents = file.read() \n",
    "    # Read all contents (Line-1Line-2Line-3Line-4Line-5Line-6Line-7)\n",
    "    \n",
    "    # contents = file.readline() \n",
    "    # ['Line-1Line-2Line-3Line-4Line-5Line-6Line-7']\n",
    "    \n",
    "    contents = file.readlines() \n",
    "    #['Line-1Line-2Line-3Line-4Line-5Line-6Line-7']    \n",
    "    #print(contents)\n",
    "    for item in contents:\n",
    "        print(item)\n",
    "except:\n",
    "    print(\"Error : \", sys.exc_info()[1])\n",
    "finally:\n",
    "    file.close()\n",
    "    "
   ]
  },
  {
   "cell_type": "code",
   "execution_count": 1,
   "metadata": {},
   "outputs": [],
   "source": [
    "# Task\n",
    "    # Search String in file\n",
    "    # Write an object of class\n",
    "    # Read an object of class"
   ]
  },
  {
   "cell_type": "code",
   "execution_count": null,
   "metadata": {},
   "outputs": [],
   "source": [
    "FILE_NAME = \"data1.txt\"\n",
    "try:\n",
    "    file = open(FILE_NAME, \"r\")\n",
    "    #contents = file.read(5) # Hello\n",
    "    contents = file.readlines()\n",
    "    for content in contents:\n",
    "        print(content)\n",
    "except:\n",
    "    print(\"Error : \", sys.exc_info()[1])\n",
    "finally:\n",
    "    file.close()"
   ]
  }
 ],
 "metadata": {
  "kernelspec": {
   "display_name": "Python 3",
   "language": "python",
   "name": "python3"
  },
  "language_info": {
   "codemirror_mode": {
    "name": "ipython",
    "version": 3
   },
   "file_extension": ".py",
   "mimetype": "text/x-python",
   "name": "python",
   "nbconvert_exporter": "python",
   "pygments_lexer": "ipython3",
   "version": "3.8.5"
  }
 },
 "nbformat": 4,
 "nbformat_minor": 4
}
