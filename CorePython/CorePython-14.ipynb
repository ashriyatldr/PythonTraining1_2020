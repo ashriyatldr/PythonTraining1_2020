{
 "cells": [
  {
   "cell_type": "markdown",
   "metadata": {},
   "source": [
    "# GIT - Repository"
   ]
  },
  {
   "cell_type": "code",
   "execution_count": 1,
   "metadata": {},
   "outputs": [],
   "source": [
    "# Installation and Configuration\n",
    "    # Install GIT for Windows\n",
    "    # https://git-scm.com/download/win\n",
    "    # Create User in https://bitbucket.org/ (using google account)\n",
    "    # Create Repo in https://bitbucket.org/\n",
    "    # URL of Repo -  (git clone https://krishna_aryal@bitbucket.org/krishna_aryal/pythontraining-2.git)\n",
    "    \n",
    "    # https://github.com/\n",
    "    # Create New User (User name, Password)\n",
    "    "
   ]
  },
  {
   "cell_type": "code",
   "execution_count": null,
   "metadata": {},
   "outputs": [],
   "source": [
    "# Working with Basic Commands\n"
   ]
  }
 ],
 "metadata": {
  "kernelspec": {
   "display_name": "Python 3",
   "language": "python",
   "name": "python3"
  },
  "language_info": {
   "codemirror_mode": {
    "name": "ipython",
    "version": 3
   },
   "file_extension": ".py",
   "mimetype": "text/x-python",
   "name": "python",
   "nbconvert_exporter": "python",
   "pygments_lexer": "ipython3",
   "version": "3.8.5"
  }
 },
 "nbformat": 4,
 "nbformat_minor": 4
}
