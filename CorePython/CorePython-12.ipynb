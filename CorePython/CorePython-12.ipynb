{
 "cells": [
  {
   "cell_type": "markdown",
   "metadata": {},
   "source": [
    "## CSV (Comma Seperated Value)"
   ]
  },
  {
   "cell_type": "code",
   "execution_count": 2,
   "metadata": {},
   "outputs": [],
   "source": [
    "# Introduction\n",
    "# id, name, address\n",
    "# 1,Krishna,Balaju\n",
    "# 2,Rupak,Kalanji\n",
    "# 3,Prkash, Dang"
   ]
  },
  {
   "cell_type": "code",
   "execution_count": 3,
   "metadata": {},
   "outputs": [],
   "source": [
    "# Writting & Reading\n",
    "import csv"
   ]
  },
  {
   "cell_type": "code",
   "execution_count": 10,
   "metadata": {},
   "outputs": [],
   "source": [
    "# Write CSV-1\n",
    "import csv\n",
    "with open('data1.csv', 'w') as file:\n",
    "    obj_writer = csv.writer(file)\n",
    "    obj_writer.writerow(['id', 'name', 'address'])\n",
    "    obj_writer.writerow([1,'Krishna','Balaju'])\n",
    "    obj_writer.writerow([2,'Rupak','Kalanki'])\n",
    "    obj_writer.writerow([3,'Prkash', 'Dang'])"
   ]
  },
  {
   "cell_type": "code",
   "execution_count": 4,
   "metadata": {},
   "outputs": [],
   "source": [
    "# Write CSV-2\n",
    "import csv\n",
    "rows = [\n",
    "            ['id', 'name', 'address'],\n",
    "            [1,'Krishna','Balaju'],\n",
    "            [2,'Rupak','Kalanki'],\n",
    "            [3,'Prkash', 'Dang']\n",
    "        ]\n",
    "with open('data2.csv', 'w') as file:\n",
    "    writer = csv.writer(file)\n",
    "    writer.writerows(rows)"
   ]
  },
  {
   "cell_type": "code",
   "execution_count": 11,
   "metadata": {},
   "outputs": [
    {
     "name": "stdout",
     "output_type": "stream",
     "text": [
      "['id', 'name', 'address']\n",
      "['1', 'Krishna', 'Balaju']\n",
      "['2', 'Rupak', 'Kalanki']\n",
      "['3', 'Prkash', 'Dang']\n"
     ]
    }
   ],
   "source": [
    "# Read CSV - HW\n",
    "import csv\n",
    "with open(\"data1.csv\", 'r') as file:\n",
    "    reader = csv.reader(file)\n",
    "    for row in reader:\n",
    "        if len(row)!=0:            \n",
    "            print(row)"
   ]
  },
  {
   "cell_type": "code",
   "execution_count": 17,
   "metadata": {},
   "outputs": [],
   "source": [
    "# Write CSV-3\n",
    "rows = [\n",
    "            ['id', 'name', 'address'],\n",
    "            [1,'Krishna','Balaju'],\n",
    "            [2,'Rupak','Kalanki'],\n",
    "            [3,'Prkash', 'Dang']\n",
    "        ]\n",
    "with open(\"data3.csv\", 'w', newline='') as file:\n",
    "    writer = csv.writer(file, delimiter='?')\n",
    "    writer.writerows(rows)"
   ]
  },
  {
   "cell_type": "code",
   "execution_count": 18,
   "metadata": {},
   "outputs": [
    {
     "name": "stdout",
     "output_type": "stream",
     "text": [
      "['id', 'name', 'address']\n",
      "['1', 'Krishna', 'Balaju']\n",
      "['2', 'Rupak', 'Kalanki']\n",
      "['3', 'Prkash', 'Dang']\n"
     ]
    }
   ],
   "source": [
    "# Read CSV-3\n",
    "with open('data3.csv', 'r') as file:\n",
    "    reader = csv.reader(file, delimiter='?')\n",
    "    for row in reader:\n",
    "        print(row)"
   ]
  },
  {
   "cell_type": "code",
   "execution_count": 20,
   "metadata": {},
   "outputs": [],
   "source": [
    "# DictWriter and DictReader\n",
    "\n",
    "# CSV-Write -DictWriter\n",
    "import csv\n",
    "person1 = {'id':1, 'name':'Krishna','address':'Balaju'}\n",
    "person2 = {'id':2, 'name':'Rupak','address':'Kalanki'}\n",
    "person3 = {'id':3, 'name':'Prakash','address':'Lamahi'}\n",
    "fields = ('id', 'name','address')\n",
    "with open(\"data4.csv\", 'w', newline='') as file:\n",
    "    writer = csv.DictWriter(file, fieldnames=fields)\n",
    "    writer.writeheader()\n",
    "    writer.writerow(person1)\n",
    "    writer.writerow(person2)\n",
    "    writer.writerow(person3)"
   ]
  },
  {
   "cell_type": "code",
   "execution_count": 30,
   "metadata": {},
   "outputs": [
    {
     "name": "stdout",
     "output_type": "stream",
     "text": [
      "name Rupak\n"
     ]
    }
   ],
   "source": [
    "# CSV-Read -DictReader\n",
    "import csv\n",
    "with open('data4.csv','r') as file:\n",
    "    reader=csv.DictReader(file)\n",
    "    list1 = []\n",
    "    for row in reader:\n",
    "        #print(row)\n",
    "        list1.append(row)\n",
    "#print(list1)\n",
    "\n",
    "#for person in list1:\n",
    "    #print(person)\n",
    "\n",
    "sname='Rupak'\n",
    "for person in list1:\n",
    "    for key, value in person.items():\n",
    "        if value == sname:\n",
    "            print(key, value)\n",
    "            "
   ]
  },
  {
   "cell_type": "code",
   "execution_count": null,
   "metadata": {},
   "outputs": [],
   "source": []
  }
 ],
 "metadata": {
  "kernelspec": {
   "display_name": "Python 3",
   "language": "python",
   "name": "python3"
  },
  "language_info": {
   "codemirror_mode": {
    "name": "ipython",
    "version": 3
   },
   "file_extension": ".py",
   "mimetype": "text/x-python",
   "name": "python",
   "nbconvert_exporter": "python",
   "pygments_lexer": "ipython3",
   "version": "3.8.5"
  }
 },
 "nbformat": 4,
 "nbformat_minor": 4
}
