{
 "cells": [
  {
   "cell_type": "markdown",
   "metadata": {},
   "source": [
    "# Database Access"
   ]
  },
  {
   "cell_type": "code",
   "execution_count": 1,
   "metadata": {},
   "outputs": [],
   "source": [
    "# Microsoft Access\n",
    "# Microsoft SQL Server\n",
    "# Oracle\n",
    "# MySQL *\n",
    "# MariaDB\n",
    "# SQLite (No Database)"
   ]
  },
  {
   "cell_type": "code",
   "execution_count": 2,
   "metadata": {},
   "outputs": [],
   "source": [
    "# Database Operations\n",
    "    # Connect with Database\n",
    "    # Close connection with database\n",
    "    # Inser record on database\n",
    "    # Retrieve record from database\n",
    "    # Update record on database\n",
    "    # Delete record from database"
   ]
  },
  {
   "cell_type": "code",
   "execution_count": null,
   "metadata": {},
   "outputs": [],
   "source": [
    "# MySQL\n",
    "    # Installation of MySQL (XAMPP Server) - MySQL, MySQL IDE (phpMyAdmin)\n",
    "    # PC's ID(IP Address), User, User Password, Database, Tables\n",
    "        # Current Machine -  localhost\n",
    "        # User - 'root'\n",
    "        # password - ''\n",
    "    # Database Name - db_corepython\n",
    "        # Table_name : tbl_person (person_id, full_name, contact_address)"
   ]
  },
  {
   "cell_type": "code",
   "execution_count": 1,
   "metadata": {},
   "outputs": [],
   "source": [
    "# Connecting MySQL Server\n",
    "    # MySQL Install and Configure\n",
    "    # Install Python Library to connect with MySQL\n",
    "        # pip install mysql-connector-python\n",
    "        # pip install mysql-connector"
   ]
  },
  {
   "cell_type": "code",
   "execution_count": 1,
   "metadata": {},
   "outputs": [
    {
     "name": "stdout",
     "output_type": "stream",
     "text": [
      "Connect MySQL Server successfully\n"
     ]
    }
   ],
   "source": [
    "# Connect with MySql Server\n",
    "import mysql.connector\n",
    "import sys\n",
    "conn = None\n",
    "try:\n",
    "    #Try to connect with mysql server\n",
    "    conn = mysql.connector.connect(host='localhost', user='admin', password='admin')\n",
    "    if conn.is_connected()==True:\n",
    "        print(\"Connect MySQL Server successfully\")\n",
    "    else:\n",
    "        print(\"Error to connect MySQL Server\")\n",
    "except:\n",
    "    print(\"Error : \", sys.exc_info()[1])\n",
    "finally:    \n",
    "    del conn"
   ]
  },
  {
   "cell_type": "code",
   "execution_count": 3,
   "metadata": {},
   "outputs": [
    {
     "name": "stdout",
     "output_type": "stream",
     "text": [
      "Connect MySQL Server and Database Successfully\n"
     ]
    }
   ],
   "source": [
    "# Connect with MySql Server\n",
    "import mysql.connector\n",
    "import sys\n",
    "conn = None\n",
    "try:\n",
    "    #Try to connect with mysql server\n",
    "    conn = mysql.connector.connect(host='localhost', user='admin', password='admin', database='db_corepython')\n",
    "    if conn.is_connected()==True:\n",
    "        print(\"Connect MySQL Server and Database Successfully\")\n",
    "    else:\n",
    "        print(\"Error to connect MySQL Server\")\n",
    "except:\n",
    "    print(\"Error : \", sys.exc_info()[1])\n",
    "finally:    \n",
    "    del conn"
   ]
  },
  {
   "cell_type": "code",
   "execution_count": 30,
   "metadata": {},
   "outputs": [
    {
     "name": "stdout",
     "output_type": "stream",
     "text": [
      "Error :  1062 (23000): Duplicate entry '1' for key 'PRIMARY'\n"
     ]
    }
   ],
   "source": [
    "# Inserting Record\n",
    "    # Connect Database Server\n",
    "    # Prepared Insert Statement\n",
    "    # Execute Insert Statement    \n",
    "import mysql.connector\n",
    "import sys\n",
    "try:\n",
    "    obj_conn = mysql.connector.connect(host=\"localhost\", user=\"admin\", password=\"admin\", database=\"db_corepython\") # create connection object\n",
    "    sql = \"INSERT INTO tbl_person(person_id, full_name, contact_address) VALUES(1, 'Reeta Sharma', 'Morang')\" # create insert statement\n",
    "    obj_cur = obj_conn.cursor() # create cursor object\n",
    "    obj_cur.execute(sql) # run sql command on server\n",
    "    obj_conn.commit()# save - insert\n",
    "    obj_cur.close()\n",
    "    obj_conn.close()\n",
    "    print(\"Insert record successfully\")\n",
    "except:\n",
    "    print(\"Error : \", sys.exc_info()[1])\n",
    "finally:\n",
    "    pass"
   ]
  },
  {
   "cell_type": "code",
   "execution_count": 20,
   "metadata": {},
   "outputs": [
    {
     "name": "stdout",
     "output_type": "stream",
     "text": [
      "Enter id : 10\n",
      "Enter fullname : asjha fkasf\n",
      "Enter address : lkjasflj aslfjkf\n",
      "INSERT INTO tbl_person(person_id, full_name, contact_address) VALUES(10, 'asjha fkasf', 'lkjasflj aslfjkf')\n"
     ]
    }
   ],
   "source": [
    "import mysql.connector\n",
    "import sys\n",
    "try:\n",
    "    # input from user\n",
    "    pid = int(input(\"Enter id : \"))\n",
    "    fn = input(\"Enter fullname : \")\n",
    "    ca = input(\"Enter address : \")\n",
    "    \n",
    "    obj_conn = mysql.connector.connect(host=\"localhost\", user=\"admin\", password=\"admin\", database=\"db_corepython\") # create connection object\n",
    "    #sql = \"INSERT INTO tbl_person(person_id, full_name, contact_address) VALUES(9, 'Reeta Sharma', 'Morang')\" # create insert statement\n",
    "    sql = \"INSERT INTO tbl_person(person_id, full_name, contact_address) VALUES(\"+ str(pid) +\", '\"+ fn +\"', '\"+ ca +\"')\"\n",
    "    print(sql)\n",
    "    obj_cur = obj_conn.cursor() # create cursor object\n",
    "    obj_cur.execute(sql) # run sql command on server\n",
    "    obj_conn.commit()# save - insert\n",
    "    obj_cur.close()\n",
    "    obj_conn.close()\n",
    "except:\n",
    "    print(\"Error : \", sys.exc_info()[1])\n",
    "finally:\n",
    "    pass"
   ]
  },
  {
   "cell_type": "code",
   "execution_count": 25,
   "metadata": {},
   "outputs": [
    {
     "name": "stdout",
     "output_type": "stream",
     "text": [
      "[(1, 'Kiran Thapa', 'BHK'), (2, 'Bikash Khanal', 'Pokhara'), (3, 'Prakash Rawat', 'Dang'), (4, 'Devi Sunuwar', 'KTM'), (5, 'Elisha Itani', 'Ktm')]\n"
     ]
    }
   ],
   "source": [
    "# Retrieve/Select record(s) from Table\n",
    "    # Connect\n",
    "    # SQL Statement\n",
    "    # Execute\n",
    "import mysql.connector\n",
    "import sys\n",
    "try:\n",
    "    obj_conn = mysql.connector.connect(host=\"localhost\", user=\"admin\", password=\"admin\", database=\"db_corepython\")\n",
    "    str_sql =\"select * from tbl_person\"\n",
    "    obj_cursor = obj_conn.cursor()\n",
    "    obj_cursor.execute(str_sql)\n",
    "    #record = obj_cursor.fetchone()\n",
    "    records = obj_cursor.fetchall()\n",
    "    print(records)\n",
    "except:\n",
    "    print(\"Error \", sys.exc_info()[1])\n",
    "finally:\n",
    "    pass"
   ]
  },
  {
   "cell_type": "code",
   "execution_count": 15,
   "metadata": {},
   "outputs": [],
   "source": [
    "# Task - HW\n",
    "    # Update/Edit record\n",
    "    # Delete record"
   ]
  },
  {
   "cell_type": "code",
   "execution_count": 19,
   "metadata": {},
   "outputs": [
    {
     "name": "stdout",
     "output_type": "stream",
     "text": [
      "Update Record Successfully\n"
     ]
    }
   ],
   "source": [
    "# Update/Edit Record\n",
    "import mysql.connector\n",
    "import sys\n",
    "try:\n",
    "    obj_conn = mysql.connector.connect(host=\"localhost\", user=\"admin\", password=\"admin\", database=\"db_corepython\")\n",
    "    str_sql = \"UPDATE tbl_person SET full_name='Kiran Thapa', contact_address='BHK' WHERE person_id=1\"\n",
    "    obj_cursor =  obj_conn.cursor()\n",
    "    obj_cursor.execute(str_sql)\n",
    "    obj_conn.commit()\n",
    "    obj_cursor.close()\n",
    "    obj_conn.close()\n",
    "    print(\"Update Record Successfully\")\n",
    "except:\n",
    "    print(\"Error : \", sys.exc_info()[1])\n",
    "finally:\n",
    "    pass"
   ]
  },
  {
   "cell_type": "code",
   "execution_count": 24,
   "metadata": {},
   "outputs": [
    {
     "name": "stdout",
     "output_type": "stream",
     "text": [
      "Delete Record Successfully\n"
     ]
    }
   ],
   "source": [
    "# Delete Record(s)\n",
    "import mysql.connector\n",
    "import sys\n",
    "try:\n",
    "    obj_conn =  mysql.connector.connect(host=\"localhost\", user=\"admin\",password=\"admin\", database=\"db_corepython\")\n",
    "    str_sql = \"DELETE FROM tbl_person WHERE person_id=10\"\n",
    "    obj_cursor =  obj_conn.cursor()\n",
    "    obj_cursor.execute(str_sql)\n",
    "    obj_conn.commit()\n",
    "    obj_cursor.close()\n",
    "    obj_conn.close()\n",
    "    print(\"Delete Record Successfully\")\n",
    "except:\n",
    "    print(\"Error : \", sys.exc_info()[1])\n",
    "finally:\n",
    "    pass"
   ]
  },
  {
   "cell_type": "code",
   "execution_count": 31,
   "metadata": {},
   "outputs": [],
   "source": [
    "# Task\n",
    "# Accept Student Info (Input) \n",
    "    # - rollno, fullname, standard, sub1, sub2, sub3, sub4\n",
    "    # - PassMark =40\n",
    "    # - Calculate total, average(percentage), result, grade (gpa, grade, point)\n",
    "\n",
    "# Database Operation\n",
    "    # Insert Record\n",
    "    # Search and View Record\n",
    "    # Update Record\n",
    "    # Delete Record\n",
    "\n",
    "# File Operation\n",
    "    # Insert Record\n",
    "    # Search and View Record\n",
    "    # Update Record\n",
    "    # Delete Record\n",
    "\n",
    "# Features\n",
    "    # OOP Object Oriented Programing\n",
    "    # Exception Handle\n",
    "    # DBMS Handle\n",
    "    # File Handle"
   ]
  },
  {
   "cell_type": "code",
   "execution_count": 1,
   "metadata": {},
   "outputs": [
    {
     "name": "stdout",
     "output_type": "stream",
     "text": [
      "Connect and close database connection\n"
     ]
    }
   ],
   "source": [
    "# SQLite - Flat File Database - Single File\n",
    "import sqlite3\n",
    "import sys\n",
    "\n",
    "DB_FILE = \"mydatabase.db\"\n",
    "try:\n",
    "    obj_conn = sqlite3.connect(DB_FILE)\n",
    "    obj_conn.close()\n",
    "    print(\"Connect and close database connection\")\n",
    "except:\n",
    "    print(\"Error : \", sys.exc_info()[1])\n",
    "finally:\n",
    "    pass"
   ]
  },
  {
   "cell_type": "code",
   "execution_count": 2,
   "metadata": {},
   "outputs": [],
   "source": [
    "# Table Management\n",
    "    # Create table\n",
    "    # Select table(s)\n",
    "    # Update table\n",
    "    # Delete table\n",
    "# Record Management\n",
    "    # Insert Record\n",
    "    # Select Record\n",
    "    # Update Record\n",
    "    # Delete Record"
   ]
  },
  {
   "cell_type": "code",
   "execution_count": 17,
   "metadata": {},
   "outputs": [
    {
     "name": "stdout",
     "output_type": "stream",
     "text": [
      "Create table successfully\n"
     ]
    }
   ],
   "source": [
    "# Create table\n",
    "import sqlite3\n",
    "import sys\n",
    "# DB_FILE = \"C:\\\\Users\\\\Krishna\\\\Desktop\\\\MyFolder\\\\mydatabase.db\"\n",
    "DB_FILE = \"mydatabase.db\"\n",
    "str_sql = \"\"\"\n",
    "    CREATE TABLE IF NOT EXISTS tbl_person(\n",
    "        person_id INTEGER NOT NULL,\n",
    "        full_name TEXT NOT NULL,\n",
    "        contact_address TEXT NOT NULL\n",
    "    )\n",
    "\"\"\"\n",
    "try:\n",
    "    conn = sqlite3.connect(DB_FILE)\n",
    "    cursor = conn.cursor()\n",
    "    cursor.execute(str_sql)\n",
    "    conn.commit()# Save on DB\n",
    "    cursor.close()\n",
    "    conn.close()\n",
    "    print(\"Create table successfully\")\n",
    "except:\n",
    "    print(\"Error : \", sys.exc_info()[1])\n",
    "finally:\n",
    "    pass"
   ]
  },
  {
   "cell_type": "code",
   "execution_count": 15,
   "metadata": {},
   "outputs": [],
   "source": [
    "# https://sqliteonline.com/\n",
    "# Portable SQLite Browser\n",
    "    # https://sqlitebrowser.org/blog/portableapp-for-3-12-0-release-now-available/"
   ]
  },
  {
   "cell_type": "code",
   "execution_count": 17,
   "metadata": {},
   "outputs": [
    {
     "name": "stdout",
     "output_type": "stream",
     "text": [
      "Enter id : 1\n",
      "Enter name : Ramesh Rai\n",
      "Enter address : Lalitpur\n",
      "Insert record successfully\n"
     ]
    }
   ],
   "source": [
    "# CRUD - Create, Retrieve, Update, Delete\n",
    "\n",
    "# Insert Record\n",
    "import sqlite3\n",
    "import sys\n",
    "DB_FILE = \"mydatabase.db\"\n",
    "\n",
    "str_sql = \"\"\"INSERT INTO tbl_person(person_id, full_name, contact_address) values(?, ?, ?)\"\"\"\n",
    "# values= (1, 'Krihna Aryal','Balaju, KTM')\n",
    "\n",
    "try:\n",
    "    pid = int(input(\"Enter id : \"))\n",
    "    fn = input(\"Enter name : \")\n",
    "    ca = input(\"Enter address : \")\n",
    "    values = (pid, fn, ca)\n",
    "    conn = sqlite3.connect(DB_FILE)\n",
    "    cursor = conn.cursor()\n",
    "    cursor.execute(str_sql, values)\n",
    "    conn.commit()\n",
    "    cursor.close()\n",
    "    conn.close()\n",
    "    print(\"Insert record successfully\")\n",
    "except:\n",
    "    print(\"Error : \", sys.exc_info()[1])\n",
    "finally:\n",
    "    pass"
   ]
  },
  {
   "cell_type": "code",
   "execution_count": 21,
   "metadata": {},
   "outputs": [
    {
     "name": "stdout",
     "output_type": "stream",
     "text": [
      "(1, 'Ramesh Rai', 'Bhaktapur')\n",
      "(2, 'Raju Thapa', 'Kathmandu, NEpal')\n"
     ]
    }
   ],
   "source": [
    "# Select Records\n",
    "import sqlite3\n",
    "import sys\n",
    "\n",
    "DB_FILE = \"mydatabase.db\"\n",
    "str_sql = \"\"\"SELECT * FROM tbl_person ORDER BY person_id ASC\"\"\"\n",
    "\n",
    "try:\n",
    "    conn = sqlite3.connect(DB_FILE)\n",
    "    cursor = conn.cursor()\n",
    "    cursor.execute(str_sql)# Result\n",
    "    \n",
    "    rows = cursor.fetchall()\n",
    "    for row in rows:\n",
    "        print(row)\n",
    "    cursor.close()\n",
    "    conn.close()\n",
    "except:\n",
    "     print(\"Error : \", sys.exc_info()[1])\n",
    "finally:\n",
    "    pass"
   ]
  },
  {
   "cell_type": "code",
   "execution_count": 21,
   "metadata": {},
   "outputs": [],
   "source": [
    "# Task\n",
    "    # Record Update?\n",
    "    # Record Delete?\n",
    "    # Record Search?"
   ]
  },
  {
   "cell_type": "code",
   "execution_count": 19,
   "metadata": {},
   "outputs": [
    {
     "name": "stdout",
     "output_type": "stream",
     "text": [
      "Record updated!\n"
     ]
    }
   ],
   "source": [
    "# Record Update\n",
    "import sqlite3\n",
    "import sys\n",
    "\n",
    "DB_FILE = \"mydatabase.db\"\n",
    "str_sql = \"\"\"UPDATE tbl_person SET full_name=?, contact_address=? WHERE person_id = ?\"\"\"\n",
    "\n",
    "values= (\"Ramesh Rai\",\"Bhaktapur\", 1)\n",
    "\n",
    "try:\n",
    "    conn = sqlite3.connect(DB_FILE)\n",
    "    cursor = conn.cursor()\n",
    "    cursor.execute(str_sql, values)\n",
    "    conn.commit()\n",
    "    cursor.close()\n",
    "    conn.close()\n",
    "    print(\"Record updated!\")\n",
    "except:\n",
    "    print(\"Error : \", sys.exc_info()[1])\n",
    "finally:\n",
    "    pass"
   ]
  },
  {
   "cell_type": "code",
   "execution_count": 14,
   "metadata": {},
   "outputs": [
    {
     "name": "stdout",
     "output_type": "stream",
     "text": [
      "Record deleted!\n"
     ]
    }
   ],
   "source": [
    "# Delete Record\n",
    "import sqlite3\n",
    "import sys\n",
    "DB_FILE = \"mydatabase.db\"\n",
    "str_sql = \"\"\"DELETE FROM tbl_person WHERE person_id = ?\"\"\"\n",
    "values = (1,)\n",
    "try:\n",
    "    conn = sqlite3.connect(DB_FILE)\n",
    "    cursor = conn.cursor()\n",
    "    cursor.execute(str_sql, values)\n",
    "    conn.commit()\n",
    "    cursor.close()\n",
    "    conn.close()\n",
    "    print(\"Record deleted!\")\n",
    "except:\n",
    "    print(\"Error : \", sys.exc_info()[1])\n",
    "finally:\n",
    "    pass\n"
   ]
  },
  {
   "cell_type": "code",
   "execution_count": 22,
   "metadata": {},
   "outputs": [
    {
     "data": {
      "text/plain": [
       "'\\n    Database Options:\\n    1. Load MySQL\\n    2. Load SQLite\\n    Enter Database to load : _1 | 2\\n    \\n    Database Operations:\\n    1. Create table\\n    2. Show tables\\n    3. Record Operations\\n    Enter option : _1 | 2 | 3\\n    \\n    Record Operations:\\n    1. Add New Record\\n    2. Display All Records\\n    3. Search and Display Record (id)\\n    4. Search and Update Record\\n    5. Search and Delete Record\\n    6. Search and Export Record (PDF File)\\n    7. Search and Print Record (Printer)\\n    8. Database Backup\\n    9. Database Restore\\n    0. Exit\\n    Enter your choice : _\\n    Task Perform\\n'"
      ]
     },
     "execution_count": 22,
     "metadata": {},
     "output_type": "execute_result"
    }
   ],
   "source": [
    "# Task\n",
    "\"\"\"\n",
    "    Database Options:\n",
    "    1. Load MySQL\n",
    "    2. Load SQLite\n",
    "    Enter Database to load : _1 | 2\n",
    "    \n",
    "    Database Operations:\n",
    "    1. Create table\n",
    "    2. Show tables\n",
    "    3. Record Operations\n",
    "    Enter option : _1 | 2 | 3\n",
    "    \n",
    "    Record Operations:\n",
    "    1. Add New Record\n",
    "    2. Display All Records\n",
    "    3. Search and Display Record (id)\n",
    "    4. Search and Update Record\n",
    "    5. Search and Delete Record\n",
    "    6. Search and Export Record (PDF File)\n",
    "    7. Search and Print Record (Printer)\n",
    "    8. Database Backup\n",
    "    9. Database Restore\n",
    "    0. Exit\n",
    "    Enter your choice : _\n",
    "    Task Perform\n",
    "\"\"\""
   ]
  },
  {
   "cell_type": "code",
   "execution_count": 23,
   "metadata": {},
   "outputs": [],
   "source": [
    "from array import array"
   ]
  },
  {
   "cell_type": "code",
   "execution_count": 24,
   "metadata": {},
   "outputs": [
    {
     "name": "stdout",
     "output_type": "stream",
     "text": [
      "Help on class array in module array:\n",
      "\n",
      "class array(builtins.object)\n",
      " |  array(typecode [, initializer]) -> array\n",
      " |  \n",
      " |  Return a new array whose items are restricted by typecode, and\n",
      " |  initialized from the optional initializer value, which must be a list,\n",
      " |  string or iterable over elements of the appropriate type.\n",
      " |  \n",
      " |  Arrays represent basic values and behave very much like lists, except\n",
      " |  the type of objects stored in them is constrained. The type is specified\n",
      " |  at object creation time by using a type code, which is a single character.\n",
      " |  The following type codes are defined:\n",
      " |  \n",
      " |      Type code   C Type             Minimum size in bytes\n",
      " |      'b'         signed integer     1\n",
      " |      'B'         unsigned integer   1\n",
      " |      'u'         Unicode character  2 (see note)\n",
      " |      'h'         signed integer     2\n",
      " |      'H'         unsigned integer   2\n",
      " |      'i'         signed integer     2\n",
      " |      'I'         unsigned integer   2\n",
      " |      'l'         signed integer     4\n",
      " |      'L'         unsigned integer   4\n",
      " |      'q'         signed integer     8 (see note)\n",
      " |      'Q'         unsigned integer   8 (see note)\n",
      " |      'f'         floating point     4\n",
      " |      'd'         floating point     8\n",
      " |  \n",
      " |  NOTE: The 'u' typecode corresponds to Python's unicode character. On\n",
      " |  narrow builds this is 2-bytes on wide builds this is 4-bytes.\n",
      " |  \n",
      " |  NOTE: The 'q' and 'Q' type codes are only available if the platform\n",
      " |  C compiler used to build Python supports 'long long', or, on Windows,\n",
      " |  '__int64'.\n",
      " |  \n",
      " |  Methods:\n",
      " |  \n",
      " |  append() -- append a new item to the end of the array\n",
      " |  buffer_info() -- return information giving the current memory info\n",
      " |  byteswap() -- byteswap all the items of the array\n",
      " |  count() -- return number of occurrences of an object\n",
      " |  extend() -- extend array by appending multiple elements from an iterable\n",
      " |  fromfile() -- read items from a file object\n",
      " |  fromlist() -- append items from the list\n",
      " |  frombytes() -- append items from the string\n",
      " |  index() -- return index of first occurrence of an object\n",
      " |  insert() -- insert a new item into the array at a provided position\n",
      " |  pop() -- remove and return item (default last)\n",
      " |  remove() -- remove first occurrence of an object\n",
      " |  reverse() -- reverse the order of the items in the array\n",
      " |  tofile() -- write all items to a file object\n",
      " |  tolist() -- return the array converted to an ordinary list\n",
      " |  tobytes() -- return the array converted to a string\n",
      " |  \n",
      " |  Attributes:\n",
      " |  \n",
      " |  typecode -- the typecode character used to create the array\n",
      " |  itemsize -- the length in bytes of one array item\n",
      " |  \n",
      " |  Methods defined here:\n",
      " |  \n",
      " |  __add__(self, value, /)\n",
      " |      Return self+value.\n",
      " |  \n",
      " |  __contains__(self, key, /)\n",
      " |      Return key in self.\n",
      " |  \n",
      " |  __copy__(self, /)\n",
      " |      Return a copy of the array.\n",
      " |  \n",
      " |  __deepcopy__(self, unused, /)\n",
      " |      Return a copy of the array.\n",
      " |  \n",
      " |  __delitem__(self, key, /)\n",
      " |      Delete self[key].\n",
      " |  \n",
      " |  __eq__(self, value, /)\n",
      " |      Return self==value.\n",
      " |  \n",
      " |  __ge__(self, value, /)\n",
      " |      Return self>=value.\n",
      " |  \n",
      " |  __getattribute__(self, name, /)\n",
      " |      Return getattr(self, name).\n",
      " |  \n",
      " |  __getitem__(self, key, /)\n",
      " |      Return self[key].\n",
      " |  \n",
      " |  __gt__(self, value, /)\n",
      " |      Return self>value.\n",
      " |  \n",
      " |  __iadd__(self, value, /)\n",
      " |      Implement self+=value.\n",
      " |  \n",
      " |  __imul__(self, value, /)\n",
      " |      Implement self*=value.\n",
      " |  \n",
      " |  __iter__(self, /)\n",
      " |      Implement iter(self).\n",
      " |  \n",
      " |  __le__(self, value, /)\n",
      " |      Return self<=value.\n",
      " |  \n",
      " |  __len__(self, /)\n",
      " |      Return len(self).\n",
      " |  \n",
      " |  __lt__(self, value, /)\n",
      " |      Return self<value.\n",
      " |  \n",
      " |  __mul__(self, value, /)\n",
      " |      Return self*value.\n",
      " |  \n",
      " |  __ne__(self, value, /)\n",
      " |      Return self!=value.\n",
      " |  \n",
      " |  __reduce_ex__(self, value, /)\n",
      " |      Return state information for pickling.\n",
      " |  \n",
      " |  __repr__(self, /)\n",
      " |      Return repr(self).\n",
      " |  \n",
      " |  __rmul__(self, value, /)\n",
      " |      Return value*self.\n",
      " |  \n",
      " |  __setitem__(self, key, value, /)\n",
      " |      Set self[key] to value.\n",
      " |  \n",
      " |  __sizeof__(self, /)\n",
      " |      Size of the array in memory, in bytes.\n",
      " |  \n",
      " |  append(self, v, /)\n",
      " |      Append new value v to the end of the array.\n",
      " |  \n",
      " |  buffer_info(self, /)\n",
      " |      Return a tuple (address, length) giving the current memory address and the length in items of the buffer used to hold array's contents.\n",
      " |      \n",
      " |      The length should be multiplied by the itemsize attribute to calculate\n",
      " |      the buffer length in bytes.\n",
      " |  \n",
      " |  byteswap(self, /)\n",
      " |      Byteswap all items of the array.\n",
      " |      \n",
      " |      If the items in the array are not 1, 2, 4, or 8 bytes in size, RuntimeError is\n",
      " |      raised.\n",
      " |  \n",
      " |  count(self, v, /)\n",
      " |      Return number of occurrences of v in the array.\n",
      " |  \n",
      " |  extend(self, bb, /)\n",
      " |      Append items to the end of the array.\n",
      " |  \n",
      " |  frombytes(self, buffer, /)\n",
      " |      Appends items from the string, interpreting it as an array of machine values, as if it had been read from a file using the fromfile() method).\n",
      " |  \n",
      " |  fromfile(self, f, n, /)\n",
      " |      Read n objects from the file object f and append them to the end of the array.\n",
      " |  \n",
      " |  fromlist(self, list, /)\n",
      " |      Append items to array from list.\n",
      " |  \n",
      " |  fromstring(self, buffer, /)\n",
      " |      Appends items from the string, interpreting it as an array of machine values, as if it had been read from a file using the fromfile() method).\n",
      " |      \n",
      " |      This method is deprecated. Use frombytes instead.\n",
      " |  \n",
      " |  fromunicode(self, ustr, /)\n",
      " |      Extends this array with data from the unicode string ustr.\n",
      " |      \n",
      " |      The array must be a unicode type array; otherwise a ValueError is raised.\n",
      " |      Use array.frombytes(ustr.encode(...)) to append Unicode data to an array of\n",
      " |      some other type.\n",
      " |  \n",
      " |  index(self, v, /)\n",
      " |      Return index of first occurrence of v in the array.\n",
      " |  \n",
      " |  insert(self, i, v, /)\n",
      " |      Insert a new item v into the array before position i.\n",
      " |  \n",
      " |  pop(self, i=-1, /)\n",
      " |      Return the i-th element and delete it from the array.\n",
      " |      \n",
      " |      i defaults to -1.\n",
      " |  \n",
      " |  remove(self, v, /)\n",
      " |      Remove the first occurrence of v in the array.\n",
      " |  \n",
      " |  reverse(self, /)\n",
      " |      Reverse the order of the items in the array.\n",
      " |  \n",
      " |  tobytes(self, /)\n",
      " |      Convert the array to an array of machine values and return the bytes representation.\n",
      " |  \n",
      " |  tofile(self, f, /)\n",
      " |      Write all items (as machine values) to the file object f.\n",
      " |  \n",
      " |  tolist(self, /)\n",
      " |      Convert array to an ordinary list with the same items.\n",
      " |  \n",
      " |  tostring(self, /)\n",
      " |      Convert the array to an array of machine values and return the bytes representation.\n",
      " |      \n",
      " |      This method is deprecated. Use tobytes instead.\n",
      " |  \n",
      " |  tounicode(self, /)\n",
      " |      Extends this array with data from the unicode string ustr.\n",
      " |      \n",
      " |      Convert the array to a unicode string.  The array must be a unicode type array;\n",
      " |      otherwise a ValueError is raised.  Use array.tobytes().decode() to obtain a\n",
      " |      unicode string from an array of some other type.\n",
      " |  \n",
      " |  ----------------------------------------------------------------------\n",
      " |  Static methods defined here:\n",
      " |  \n",
      " |  __new__(*args, **kwargs) from builtins.type\n",
      " |      Create and return a new object.  See help(type) for accurate signature.\n",
      " |  \n",
      " |  ----------------------------------------------------------------------\n",
      " |  Data descriptors defined here:\n",
      " |  \n",
      " |  itemsize\n",
      " |      the size, in bytes, of one array item\n",
      " |  \n",
      " |  typecode\n",
      " |      the typecode character used to create the array\n",
      " |  \n",
      " |  ----------------------------------------------------------------------\n",
      " |  Data and other attributes defined here:\n",
      " |  \n",
      " |  __hash__ = None\n",
      "\n",
      "None\n"
     ]
    }
   ],
   "source": [
    "print(help(array))"
   ]
  },
  {
   "cell_type": "code",
   "execution_count": null,
   "metadata": {},
   "outputs": [],
   "source": []
  }
 ],
 "metadata": {
  "kernelspec": {
   "display_name": "Python 3",
   "language": "python",
   "name": "python3"
  },
  "language_info": {
   "codemirror_mode": {
    "name": "ipython",
    "version": 3
   },
   "file_extension": ".py",
   "mimetype": "text/x-python",
   "name": "python",
   "nbconvert_exporter": "python",
   "pygments_lexer": "ipython3",
   "version": "3.8.5"
  }
 },
 "nbformat": 4,
 "nbformat_minor": 4
}
